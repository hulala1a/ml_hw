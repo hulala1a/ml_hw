{
  "cells": [
    {
      "cell_type": "markdown",
      "metadata": {
        "id": "7RPpq4tH7a5E"
      },
      "source": [
        "\n",
        "# Explainable AI\n",
        "\n",
        "[作業說明投影片](https://docs.google.com/presentation/d/13xUwWArz0LROgyJBwGCf1Vili5u7l4K6WcyuRxxakAo/)\n",
        "\n",
        "[Homework Introduction](https://docs.google.com/presentation/d/13xUwWArz0LROgyJBwGCf1Vili5u7l4K6WcyuRxxakAo/)\n",
        "\n",
        "本作業不提供 python script 版本\n",
        "\n",
        "There is no python script version for this homework\n",
        "\n",
        "若有任何問題，歡迎來信至助教信箱： ntu-ml-2021spring-ta@googlegroups.com\n",
        "\n",
        "If you have any question, TA's mail: ntu-ml-2021spring-ta@googlegroups.com\n",
        "\n",
        "## Deadline\n",
        "\n",
        "- Mandarin/English: 5/7 release, 5/28 submit"
      ]
    },
    {
      "cell_type": "markdown",
      "metadata": {
        "id": "wSczNnpbIMU8"
      },
      "source": [
        "# **Homework 9 - Explainable AI (Part 1 CNN)**"
      ]
    },
    {
      "cell_type": "markdown",
      "metadata": {
        "id": "PjnwUDCP5nVk"
      },
      "source": [
        "Connect to google drive"
      ]
    },
    {
      "cell_type": "code",
      "execution_count": null,
      "metadata": {
        "colab": {
          "base_uri": "https://localhost:8080/"
        },
        "id": "GVsbrnFf5nn1",
        "outputId": "47e1c8bb-b7ed-46c5-a4e0-deda5fe3ff9d",
        "vscode": {
          "languageId": "python"
        }
      },
      "outputs": [],
      "source": [
        "from google.colab import drive\n",
        "drive.mount('/content/gdrive', force_remount=True)"
      ]
    },
    {
      "cell_type": "code",
      "execution_count": null,
      "metadata": {
        "colab": {
          "base_uri": "https://localhost:8080/"
        },
        "id": "Z6mlsay85931",
        "outputId": "905f0e35-c5d2-4d95-8842-74bbd43dad7a",
        "vscode": {
          "languageId": "python"
        }
      },
      "outputs": [],
      "source": [
        "import os\n",
        "os.chdir('gdrive/My Drive/MLHW_XAI')\n",
        "!ls"
      ]
    },
    {
      "cell_type": "markdown",
      "metadata": {
        "id": "JrdwqA0u7Rzb"
      },
      "source": [
        "## Environment settings"
      ]
    },
    {
      "cell_type": "code",
      "execution_count": null,
      "metadata": {
        "colab": {
          "base_uri": "https://localhost:8080/"
        },
        "id": "yFilmmPP3pRT",
        "outputId": "b2864d60-de20-4867-c3ad-6566099f1536",
        "vscode": {
          "languageId": "python"
        }
      },
      "outputs": [],
      "source": [
        "# download and unzip training data\n",
        "!gdown --id '1cYBWwYab3djiaYuOU6CxkYHQyUYws4Ce' --output food.zip\n",
        "!unzip food.zip"
      ]
    },
    {
      "cell_type": "code",
      "execution_count": null,
      "metadata": {
        "id": "zhzdomRTOKoJ",
        "vscode": {
          "languageId": "python"
        }
      },
      "outputs": [],
      "source": [
        "# download pretrained model\n",
        "!gdown --id '1CShZHsO8oAZwxQkMe7jRtEgSNb2w_OZu' --output checkpoint.pth"
      ]
    },
    {
      "cell_type": "code",
      "execution_count": null,
      "metadata": {
        "colab": {
          "base_uri": "https://localhost:8080/"
        },
        "id": "kP4zsXYaI47z",
        "outputId": "ea298c62-d616-408e-f745-7c850ce28e4d",
        "vscode": {
          "languageId": "python"
        }
      },
      "outputs": [],
      "source": [
        "# install lime in colab\n",
        "!pip install lime==0.1.1.37"
      ]
    },
    {
      "cell_type": "markdown",
      "metadata": {
        "id": "o0G9WsAmL6Tj"
      },
      "source": [
        "## Start our python script"
      ]
    },
    {
      "cell_type": "code",
      "execution_count": null,
      "metadata": {
        "id": "leWC9kKgL55n",
        "vscode": {
          "languageId": "python"
        }
      },
      "outputs": [],
      "source": [
        "import os\n",
        "import sys\n",
        "import argparse\n",
        "import numpy as np\n",
        "from PIL import Image\n",
        "import matplotlib.pyplot as plt\n",
        "import torch\n",
        "import torch.nn as nn\n",
        "import torch.nn.functional as F\n",
        "from torch.optim import Adam\n",
        "from torch.utils.data import Dataset\n",
        "import torchvision.transforms as transforms\n",
        "from skimage.segmentation import slic\n",
        "from lime import lime_image\n",
        "from pdb import set_trace\n",
        "from torch.autograd import Variable"
      ]
    },
    {
      "cell_type": "markdown",
      "metadata": {
        "id": "9E1SvNGd8gFZ"
      },
      "source": [
        "## Argument parsing"
      ]
    },
    {
      "cell_type": "code",
      "execution_count": null,
      "metadata": {
        "id": "kbVhzRFp8dnu",
        "vscode": {
          "languageId": "python"
        }
      },
      "outputs": [],
      "source": [
        "args = {\n",
        "      'ckptpath': './checkpoint.pth',\n",
        "      'dataset_dir': './food/'\n",
        "}\n",
        "args = argparse.Namespace(**args)"
      ]
    },
    {
      "cell_type": "markdown",
      "metadata": {
        "id": "7WYKrOko-8su"
      },
      "source": [
        "## Model definition and checkpoint loading"
      ]
    },
    {
      "cell_type": "code",
      "execution_count": null,
      "metadata": {
        "id": "iqXQTwoxeRbO",
        "vscode": {
          "languageId": "python"
        }
      },
      "outputs": [],
      "source": [
        "# Model definition\n",
        "class Classifier(nn.Module):\n",
        "  def __init__(self):\n",
        "    super(Classifier, self).__init__()\n",
        "\n",
        "    def building_block(indim, outdim):\n",
        "      return [\n",
        "        nn.Conv2d(indim, outdim, 3, 1, 1),\n",
        "        nn.BatchNorm2d(outdim),\n",
        "        nn.ReLU(),\n",
        "      ]\n",
        "    def stack_blocks(indim, outdim, block_num):\n",
        "      layers = building_block(indim, outdim)\n",
        "      for i in range(block_num - 1):\n",
        "        layers += building_block(outdim, outdim)\n",
        "      layers.append(nn.MaxPool2d(2, 2, 0))\n",
        "      return layers\n",
        "\n",
        "    cnn_list = []\n",
        "    cnn_list += stack_blocks(3, 128, 3)\n",
        "    cnn_list += stack_blocks(128, 128, 3)\n",
        "    cnn_list += stack_blocks(128, 256, 3)\n",
        "    cnn_list += stack_blocks(256, 512, 1)\n",
        "    cnn_list += stack_blocks(512, 512, 1)\n",
        "    self.cnn = nn.Sequential( * cnn_list)\n",
        "\n",
        "    dnn_list = [\n",
        "      nn.Linear(512 * 4 * 4, 1024),\n",
        "      nn.ReLU(),\n",
        "      nn.Dropout(p = 0.3),\n",
        "      nn.Linear(1024, 11),\n",
        "    ]\n",
        "    self.fc = nn.Sequential( * dnn_list)\n",
        "\n",
        "  def forward(self, x):\n",
        "    out = self.cnn(x)\n",
        "    out = out.reshape(out.size()[0], -1)\n",
        "    return self.fc(out)"
      ]
    },
    {
      "cell_type": "code",
      "execution_count": null,
      "metadata": {
        "colab": {
          "base_uri": "https://localhost:8080/"
        },
        "id": "er56l_dOAKBO",
        "outputId": "22c2cf4a-10cd-4491-d2c6-805a9bd9520e",
        "vscode": {
          "languageId": "python"
        }
      },
      "outputs": [],
      "source": [
        "# Load trained model\n",
        "model = Classifier().cuda()\n",
        "checkpoint = torch.load(args.ckptpath)\n",
        "model.load_state_dict(checkpoint['model_state_dict'])\n",
        "# It should display: <All keys matched successfully> "
      ]
    },
    {
      "cell_type": "markdown",
      "metadata": {
        "id": "R3F-Q0n4-_sh"
      },
      "source": [
        "## Dataset definition and creation"
      ]
    },
    {
      "cell_type": "code",
      "execution_count": null,
      "metadata": {
        "id": "_iKBcxwa_Rpl",
        "vscode": {
          "languageId": "python"
        }
      },
      "outputs": [],
      "source": [
        "# It might take some time, if it is too long, try to reload it.\n",
        "# Dataset definition\n",
        "class FoodDataset(Dataset):\n",
        "    def __init__(self, paths, labels, mode):\n",
        "        # mode: 'train' or 'eval'\n",
        "        \n",
        "        self.paths = paths\n",
        "        self.labels = labels\n",
        "        trainTransform = transforms.Compose([\n",
        "            transforms.Resize(size=(128, 128)),\n",
        "            transforms.RandomHorizontalFlip(),\n",
        "            transforms.RandomRotation(15),\n",
        "            transforms.ToTensor(),\n",
        "        ])\n",
        "        evalTransform = transforms.Compose([\n",
        "            transforms.Resize(size=(128, 128)),\n",
        "            transforms.ToTensor(),\n",
        "        ])\n",
        "        self.transform = trainTransform if mode == 'train' else evalTransform\n",
        "\n",
        "    # pytorch dataset class\n",
        "    def __len__(self):\n",
        "        return len(self.paths)\n",
        "\n",
        "    def __getitem__(self, index):\n",
        "        X = Image.open(self.paths[index])\n",
        "        X = self.transform(X)\n",
        "        Y = self.labels[index]\n",
        "        return X, Y\n",
        "\n",
        "    # help to get images for visualizing\n",
        "    def getbatch(self, indices):\n",
        "        images = []\n",
        "        labels = []\n",
        "        for index in indices:\n",
        "          image, label = self.__getitem__(index)\n",
        "          images.append(image)\n",
        "          labels.append(label)\n",
        "        return torch.stack(images), torch.tensor(labels)\n",
        "\n",
        "# help to get data path and label\n",
        "def get_paths_labels(path):\n",
        "    def my_key(name):\n",
        "      return int(name.replace(\".jpg\",\"\"))+1000000*int(name.split(\"_\")[0])\n",
        "    imgnames = os.listdir(path)\n",
        "    imgnames.sort(key=my_key)\n",
        "    imgpaths = []\n",
        "    labels = []\n",
        "    for name in imgnames:\n",
        "        imgpaths.append(os.path.join(path, name))\n",
        "        labels.append(int(name.split('_')[0]))\n",
        "    return imgpaths, labels\n",
        "train_paths, train_labels = get_paths_labels(args.dataset_dir)\n",
        "\n",
        "train_set = FoodDataset(train_paths, train_labels, mode='eval')"
      ]
    },
    {
      "cell_type": "markdown",
      "metadata": {
        "id": "Qdv1iZuL9K4V"
      },
      "source": [
        "## Start XAI Homework"
      ]
    },
    {
      "cell_type": "markdown",
      "metadata": {
        "id": "C2is2i7ucjf3"
      },
      "source": [
        "## The images for observation\n",
        "\n",
        "There are 11 categories of food: Bread, Dairy product, Dessert, Egg, Fried food, Meat, Noodles/Pasta, Rice, Seafood, Soup, and Vegetable/Fruit."
      ]
    },
    {
      "cell_type": "code",
      "execution_count": null,
      "metadata": {
        "colab": {
          "base_uri": "https://localhost:8080/",
          "height": 140
        },
        "id": "zKFmM1sacjyG",
        "outputId": "095ec65c-713b-4533-8ad5-ae9e50e1a987",
        "vscode": {
          "languageId": "python"
        }
      },
      "outputs": [],
      "source": [
        "img_indices = [i for i in range(10)]\n",
        "images, labels = train_set.getbatch(img_indices)\n",
        "fig, axs = plt.subplots(1, len(img_indices), figsize=(15, 8))\n",
        "for i, img in enumerate(images):\n",
        "  axs[i].imshow(img.cpu().permute(1, 2, 0))\n",
        "# print(labels)"
      ]
    },
    {
      "cell_type": "markdown",
      "metadata": {
        "id": "mdKp8rFrHhzN"
      },
      "source": [
        "## Lime\n",
        "\n",
        "[Lime](https://github.com/marcotcr/lime.git) is a package about explaining what machine learning classifiers are doing. We can first use it to observe the model."
      ]
    },
    {
      "cell_type": "code",
      "execution_count": null,
      "metadata": {
        "colab": {
          "base_uri": "https://localhost:8080/",
          "height": 293
        },
        "id": "RI6e9_68HvQe",
        "outputId": "3148895e-e806-40fc-e3ea-1635dac3a761",
        "vscode": {
          "languageId": "python"
        }
      },
      "outputs": [],
      "source": [
        "def predict(input):\n",
        "    # input: numpy array, (batches, height, width, channels)                                                                                                                                                     \n",
        "    \n",
        "    model.eval()                                                                                                                                                             \n",
        "    input = torch.FloatTensor(input).permute(0, 3, 1, 2)                                                                                                            \n",
        "    # pytorch tensor, (batches, channels, height, width)\n",
        "\n",
        "    output = model(input.cuda())                                                                                                                                             \n",
        "    return output.detach().cpu().numpy()                                                                                                                              \n",
        "                                                                                                                                                                             \n",
        "def segmentation(input):\n",
        "    # split the image into 200 pieces with the help of segmentaion from skimage                                                                                                                   \n",
        "    return slic(input, n_segments=200, compactness=1, sigma=1)                                                                                                              \n",
        "                                                                                                                                                                             \n",
        "\n",
        "fig, axs = plt.subplots(1, len(img_indices), figsize=(15, 8))                                                                                                                                                                 \n",
        "# fix the random seed to make it reproducible\n",
        "np.random.seed(16)                                                                                                                                                       \n",
        "for idx, (image, label) in enumerate(zip(images.permute(0, 2, 3, 1).numpy(), labels)):                                                                                                                                             \n",
        "    x = image.astype(np.double)\n",
        "    # numpy array for lime\n",
        "\n",
        "    explainer = lime_image.LimeImageExplainer()                                                                                                                              \n",
        "    explaination = explainer.explain_instance(image=x, classifier_fn=predict, segmentation_fn=segmentation)\n",
        "\n",
        "    # doc: https://lime-ml.readthedocs.io/en/latest/lime.html?highlight=explain_instance#lime.lime_image.LimeImageExplainer.explain_instance\n",
        "\n",
        "    lime_img, mask = explaination.get_image_and_mask(                                                                                                                         \n",
        "                                label=label.item(),                                                                                                                           \n",
        "                                positive_only=False,                                                                                                                         \n",
        "                                hide_rest=False,                                                                                                                             \n",
        "                                num_features=11,                                                                                                                              \n",
        "                                min_weight=0.05                                                                                                                              \n",
        "                            )\n",
        "    # turn the result from explainer to the image\n",
        "    # doc: https://lime-ml.readthedocs.io/en/latest/lime.html?highlight=get_image_and_mask#lime.lime_image.ImageExplanation.get_image_and_mask\n",
        "    \n",
        "    axs[idx].imshow(lime_img)\n",
        "\n",
        "plt.show()\n",
        "plt.close()"
      ]
    },
    {
      "cell_type": "markdown",
      "metadata": {
        "id": "34YGrDjLDrE1"
      },
      "source": [
        "### What is Saliency map\n",
        "Saliency: 顯著性\n",
        "\n",
        "The heatmaps that highlight pixels of the input image that contribute the most in the classification task. \n",
        "\n",
        "Ref: https://medium.com/datadriveninvestor/visualizing-neural-networks-using-saliency-maps-in-pytorch-289d8e244ab4"
      ]
    },
    {
      "cell_type": "markdown",
      "metadata": {
        "id": "fGNGiL02Bht4"
      },
      "source": [
        "### Saliency map\n",
        "\n",
        "We put an image into the model, forward then calculate the loss referring to the label. Therefore, the loss is related to:\n",
        "- image\n",
        "- model parameters\n",
        "- label\n",
        "\n",
        "Generally speaking, we change model parameters to fit \"image\" and \"label\". When backward, we calculate the partial differential value of **loss to model parameters**. \n",
        "\n",
        "Now, we have another look. When we change the image's pixel value, the partial differential value of **loss to image** shows the change in the loss. We can say that it means the importance of the pixel. We can visualize it to demonstrate which part of the image contribute the most to the model's judgement."
      ]
    },
    {
      "cell_type": "code",
      "execution_count": null,
      "metadata": {
        "id": "swIZSW7O04O-",
        "vscode": {
          "languageId": "python"
        }
      },
      "outputs": [],
      "source": [
        "def normalize(image):\n",
        "  return (image - image.min()) / (image.max() - image.min())\n",
        "  # return torch.log(image)/torch.log(image.max())\n",
        "\n",
        "def compute_saliency_maps(x, y, model):\n",
        "  model.eval()\n",
        "  x = x.cuda()\n",
        "\n",
        "  # we want the gradient of the input x\n",
        "  x.requires_grad_()\n",
        "  \n",
        "  y_pred = model(x)\n",
        "  loss_func = torch.nn.CrossEntropyLoss()\n",
        "  loss = loss_func(y_pred, y.cuda())\n",
        "  loss.backward()\n",
        "\n",
        "  # saliencies = x.grad.abs().detach().cpu()\n",
        "  saliencies, _ = torch.max(x.grad.data.abs().detach().cpu(),dim=1)\n",
        "\n",
        "  # We need to normalize each image, because their gradients might vary in scale, but we only care about the relation in each image\n",
        "  saliencies = torch.stack([normalize(item) for item in saliencies])\n",
        "  return saliencies"
      ]
    },
    {
      "cell_type": "code",
      "execution_count": null,
      "metadata": {
        "colab": {
          "base_uri": "https://localhost:8080/",
          "height": 360
        },
        "id": "S_w8iSe319Ws",
        "outputId": "d41ef40f-eeed-47ba-e68d-04fec1564bc6",
        "vscode": {
          "languageId": "python"
        }
      },
      "outputs": [],
      "source": [
        "# images, labels = train_set.getbatch(img_indices)\n",
        "saliencies = compute_saliency_maps(images, labels, model)\n",
        "\n",
        "# visualize\n",
        "fig, axs = plt.subplots(2, len(img_indices), figsize=(15, 8))\n",
        "for row, target in enumerate([images, saliencies]):\n",
        "  for column, img in enumerate(target):\n",
        "    if row==0:\n",
        "      axs[row][column].imshow(img.permute(1, 2, 0).numpy())\n",
        "      # What is permute?\n",
        "      # In pytorch, the meaning of each dimension of image tensor is (channels, height, width)\n",
        "      # In matplotlib, the meaning of each dimension of image tensor is (height, width, channels)\n",
        "      # permute is a tool for permuting dimensions of tensors\n",
        "      # For example, img.permute(1, 2, 0) means that,\n",
        "      # - 0 dimension is the 1 dimension of the original tensor, which is height\n",
        "      # - 1 dimension is the 2 dimension of the original tensor, which is width\n",
        "      # - 2 dimension is the 0 dimension of the original tensor, which is channels\n",
        "    else:\n",
        "      axs[row][column].imshow(img.numpy(), cmap=plt.cm.hot)\n",
        "    \n",
        "plt.show()\n",
        "plt.close()"
      ]
    },
    {
      "cell_type": "markdown",
      "metadata": {
        "id": "5Y2gyOXkSdpH"
      },
      "source": [
        "### Smooth grad\n",
        "\n",
        "Smooth grad 的方法是，在圖片中隨機地加入 noise，然後得到不同的 heatmap，把這些 heatmap 平均起來就得到一個比較能抵抗 noisy gradient 的結果。\n",
        "\n",
        "The method of Smooth grad is randomly adding noise to the image and get different heatmaps. The average of the heatmaps would be more robust to noisy gradient.\n",
        "\n",
        "ref: https://arxiv.org/pdf/1706.03825.pdf"
      ]
    },
    {
      "cell_type": "code",
      "execution_count": null,
      "metadata": {
        "colab": {
          "base_uri": "https://localhost:8080/",
          "height": 377
        },
        "id": "EjusfKjISm-k",
        "outputId": "940b9c51-975d-4e19-f9b5-6593822302e4",
        "vscode": {
          "languageId": "python"
        }
      },
      "outputs": [],
      "source": [
        "# Smooth grad\n",
        "\n",
        "def normalize(image):\n",
        "  return (image - image.min()) / (image.max() - image.min())\n",
        "\n",
        "def smooth_grad(x, y, model, epoch, param_sigma_multiplier):\n",
        "  model.eval()\n",
        "  #x = x.cuda().unsqueeze(0)\n",
        "\n",
        "  mean = 0\n",
        "  sigma = param_sigma_multiplier / (torch.max(x) - torch.min(x)).item()\n",
        "  smooth = np.zeros(x.cuda().unsqueeze(0).size())\n",
        "  for i in range(epoch):\n",
        "    # call Variable to generate random noise\n",
        "    noise = Variable(x.data.new(x.size()).normal_(mean, sigma**2))\n",
        "    x_mod = (x+noise).unsqueeze(0).cuda()\n",
        "    x_mod.requires_grad_()\n",
        "\n",
        "    y_pred = model(x_mod)\n",
        "    loss_func = torch.nn.CrossEntropyLoss()\n",
        "    loss = loss_func(y_pred, y.cuda().unsqueeze(0))\n",
        "    loss.backward()\n",
        "\n",
        "    # like the method in saliency map\n",
        "    smooth += x_mod.grad.abs().detach().cpu().data.numpy()\n",
        "  smooth = normalize(smooth / epoch) # don't forget to normalize\n",
        "  # smooth = smooth / epoch\n",
        "  return smooth\n",
        "\n",
        "# images, labels = train_set.getbatch(img_indices)\n",
        "smooth = []\n",
        "for i, l in zip(images, labels):\n",
        "  smooth.append(smooth_grad(i, l, model, 500, 0.4))\n",
        "smooth = np.stack(smooth)\n",
        "print(smooth.shape)\n",
        "\n",
        "fig, axs = plt.subplots(2, len(img_indices), figsize=(15, 8))\n",
        "for row, target in enumerate([images, smooth]):\n",
        "  for column, img in enumerate(target):\n",
        "    axs[row][column].imshow(np.transpose(img.reshape(3,128,128), (1,2,0)))"
      ]
    },
    {
      "cell_type": "markdown",
      "metadata": {
        "id": "6Z9o2c3jTlwG"
      },
      "source": [
        "\n",
        "\n",
        "\n",
        "## Filter explanation\n",
        "\n",
        "這裡我們想要知道某一個 filter 到底認出了什麼。我們會做以下兩件事情：\n",
        "- Filter activation: 挑幾張圖片出來，看看圖片中哪些位置會 activate 該 filter\n",
        "- Filter visualization: 怎樣的 image 可以最大程度的 activate 該 filter\n",
        "\n",
        "In this part, we want to know what a specific filter recognize, we'll do\n",
        "- Filter activation: pick up some images, check which part of the image will activate the filter\n",
        "- Filter visualization: which kind of image can activate the filter the most\n",
        "\n",
        "實作上比較困難的地方是，通常我們是直接把 image 丟進 model，一路 forward 到底。如：\n",
        "\n",
        "The problem is that, in normal case, we'll directly feed the image to the model, for example,\n",
        "```\n",
        "loss = model(image)\n",
        "loss.backward()\n",
        "```\n",
        "我們要怎麼得到中間某層 CNN 的 output? 當然我們可以直接修改 model definition，讓 forward 不只 return loss，也 return activation map。但這樣的寫法麻煩了，更改了 forward 的 output 可能會讓其他部分的 code 要跟著改動。因此 pytorch 提供了方便的 solution: **hook**，以下我們會再介紹。\n",
        "\n",
        "How can we get the output of a specific layer of CNN? We can modify the model definition, make the forward function not only return loss but also retrun the activation map. But this is difficult to maintain the code. As a result, pytorch offers a better solution: **hook**\n"
      ]
    },
    {
      "cell_type": "code",
      "execution_count": null,
      "metadata": {
        "colab": {
          "base_uri": "https://localhost:8080/"
        },
        "id": "BRqCZNd7-Hjb",
        "outputId": "3bead981-e861-4853-e350-389505d24a53",
        "vscode": {
          "languageId": "python"
        }
      },
      "outputs": [],
      "source": [
        "model"
      ]
    },
    {
      "cell_type": "code",
      "execution_count": null,
      "metadata": {
        "id": "sVJlyj01b_A4",
        "vscode": {
          "languageId": "python"
        }
      },
      "outputs": [],
      "source": [
        "def normalize(image):\n",
        "  return (image - image.min()) / (image.max() - image.min())\n",
        "\n",
        "layer_activations = None\n",
        "def filter_explanation(x, model, cnnid, filterid, iteration=100, lr=1):\n",
        "  # x: input image\n",
        "  # cnnid, filterid: cnn layer id, which filter\n",
        "  model.eval()\n",
        "\n",
        "  def hook(model, input, output):\n",
        "    global layer_activations\n",
        "    layer_activations = output\n",
        "  \n",
        "  hook_handle = model.cnn[cnnid].register_forward_hook(hook)\n",
        "  # When the model forward through the layer[cnnid], need to call the hook function first\n",
        "  # The hook function save the output of the layer[cnnid]\n",
        "  # After forwarding, we'll have the loss and the layer activation\n",
        "\n",
        "  # Filter activation: x passing the filter will generate the activation map\n",
        "  model(x.cuda()) # forward\n",
        "\n",
        "  # Based on the filterid given by the function argument, pick up the specific filter's activation map\n",
        "  # We just need to plot it, so we can detach from graph and save as cpu tensor\n",
        "  filter_activations = layer_activations[:, filterid, :, :].detach().cpu()\n",
        "  \n",
        "  # Filter visualization: find the image that can activate the filter the most\n",
        "  x = x.cuda()\n",
        "  x.requires_grad_()\n",
        "  # input image gradient\n",
        "  optimizer = Adam([x], lr=lr)\n",
        "  # Use optimizer to modify the input image to amplify filter activation\n",
        "  for iter in range(iteration):\n",
        "    optimizer.zero_grad()\n",
        "    model(x)\n",
        "    \n",
        "    objective = -layer_activations[:, filterid, :, :].sum()\n",
        "    # We want to maximize the filter activation's summation\n",
        "    # So we add a negative sign\n",
        "    \n",
        "    objective.backward()\n",
        "    # Calculate the partial differential value of filter activation to input image\n",
        "    optimizer.step()\n",
        "    # Modify input image to maximize filter activation\n",
        "  filter_visualizations = x.detach().cpu().squeeze()\n",
        "\n",
        "  # Don't forget to remove the hook\n",
        "  hook_handle.remove()\n",
        "  # The hook will exist after the model register it, so you have to remove it after used\n",
        "  # Just register a new hook if you want to use it\n",
        "\n",
        "  return filter_activations, filter_visualizations"
      ]
    },
    {
      "cell_type": "code",
      "execution_count": null,
      "metadata": {
        "colab": {
          "base_uri": "https://localhost:8080/",
          "height": 430
        },
        "id": "l7Q-0mxV-xoo",
        "outputId": "3a52c14d-f9d2-4117-9f8c-6fe345247e11",
        "vscode": {
          "languageId": "python"
        }
      },
      "outputs": [],
      "source": [
        "images, labels = train_set.getbatch(img_indices)\n",
        "filter_activations, filter_visualizations = filter_explanation(images, model, cnnid=6, filterid=0, iteration=100, lr=0.1)\n",
        "\n",
        "\n",
        "fig, axs = plt.subplots(3, len(img_indices), figsize=(15, 8))\n",
        "for i, img in enumerate(images):\n",
        "  axs[0][i].imshow(img.permute(1, 2, 0))\n",
        "# Plot filter activations\n",
        "for i, img in enumerate(filter_activations):\n",
        "  axs[1][i].imshow(normalize(img))\n",
        "# Plot filter visualization\n",
        "for i, img in enumerate(filter_visualizations):\n",
        "  axs[2][i].imshow(normalize(img.permute(1, 2, 0)))\n",
        "plt.show()\n",
        "plt.close()\n",
        "\n",
        "# 從下面四張圖可以看到，activate 的區域對應到一些物品的邊界，尤其是顏色對比較深的邊界"
      ]
    },
    {
      "cell_type": "code",
      "execution_count": null,
      "metadata": {
        "colab": {
          "base_uri": "https://localhost:8080/",
          "height": 430
        },
        "id": "FAaUtuvl7Chg",
        "outputId": "4ca8f40a-18fc-4ea8-d84b-d85fd1839695",
        "vscode": {
          "languageId": "python"
        }
      },
      "outputs": [],
      "source": [
        "images, labels = train_set.getbatch(img_indices)\n",
        "filter_activations, filter_visualizations = filter_explanation(images, model, cnnid=23, filterid=0, iteration=100, lr=0.1)\n",
        "\n",
        "# Plot filter activations\n",
        "fig, axs = plt.subplots(3, len(img_indices), figsize=(15, 8))\n",
        "for i, img in enumerate(images):\n",
        "  axs[0][i].imshow(img.permute(1, 2, 0))\n",
        "for i, img in enumerate(filter_activations):\n",
        "  axs[1][i].imshow(normalize(img))\n",
        "for i, img in enumerate(filter_visualizations):\n",
        "  axs[2][i].imshow(normalize(img.permute(1, 2, 0)))\n",
        "plt.show()\n",
        "plt.close()\n"
      ]
    },
    {
      "cell_type": "markdown",
      "metadata": {
        "id": "3UWzsjLuuj2g"
      },
      "source": [
        "## Integrated Gradient\n",
        "\n"
      ]
    },
    {
      "cell_type": "code",
      "execution_count": null,
      "metadata": {
        "id": "SK3JVklGiqw6",
        "vscode": {
          "languageId": "python"
        }
      },
      "outputs": [],
      "source": [
        "class IntegratedGradients():\n",
        "    def __init__(self, model):\n",
        "        self.model = model\n",
        "        self.gradients = None\n",
        "        # Put model in evaluation mode\n",
        "        self.model.eval()\n",
        "\n",
        "    def generate_images_on_linear_path(self, input_image, steps):\n",
        "        # Generate scaled xbar images\n",
        "        xbar_list = [input_image*step/steps for step in range(steps)]\n",
        "        return xbar_list\n",
        "\n",
        "    def generate_gradients(self, input_image, target_class):\n",
        "        # We want to get the gradients of the input image\n",
        "        input_image.requires_grad=True\n",
        "        # Forward\n",
        "        model_output = self.model(input_image)\n",
        "        # Zero grads\n",
        "        self.model.zero_grad()\n",
        "        # Target for backprop\n",
        "        one_hot_output = torch.FloatTensor(1, model_output.size()[-1]).zero_().cuda()\n",
        "        one_hot_output[0][target_class] = 1\n",
        "        # Backward\n",
        "        model_output.backward(gradient=one_hot_output)\n",
        "        self.gradients = input_image.grad\n",
        "        # Convert Pytorch variable to numpy array\n",
        "        # [0] to get rid of the first channel (1,3,128,128)\n",
        "        gradients_as_arr = self.gradients.data.cpu().numpy()[0]\n",
        "        return gradients_as_arr\n",
        "\n",
        "    def generate_integrated_gradients(self, input_image, target_class, steps):\n",
        "        # Generate xbar images\n",
        "        xbar_list = self.generate_images_on_linear_path(input_image, steps)\n",
        "        # Initialize an iamge composed of zeros\n",
        "        integrated_grads = np.zeros(input_image.size())\n",
        "        for xbar_image in xbar_list:\n",
        "            # Generate gradients from xbar images\n",
        "            single_integrated_grad = self.generate_gradients(xbar_image, target_class)\n",
        "            # Add rescaled grads from xbar images\n",
        "            integrated_grads = integrated_grads + single_integrated_grad/steps\n",
        "        # [0] to get rid of the first channel (1,3,128,128)\n",
        "        return integrated_grads[0]\n",
        "\n",
        "def normalize(image):\n",
        "  return (image - image.min()) / (image.max() - image.min())"
      ]
    },
    {
      "cell_type": "code",
      "execution_count": null,
      "metadata": {
        "id": "YiVRoNgFwTY1",
        "vscode": {
          "languageId": "python"
        }
      },
      "outputs": [],
      "source": [
        "# put the image to cuda\n",
        "images, labels = train_set.getbatch(img_indices)\n",
        "images = images.cuda()"
      ]
    },
    {
      "cell_type": "code",
      "execution_count": null,
      "metadata": {
        "colab": {
          "base_uri": "https://localhost:8080/",
          "height": 360
        },
        "id": "mkrO1OmTuxfj",
        "outputId": "527f1511-1732-40e5-db6c-fa00f7e060a0",
        "vscode": {
          "languageId": "python"
        }
      },
      "outputs": [],
      "source": [
        "IG = IntegratedGradients(model)\n",
        "integrated_grads = []\n",
        "for i, img in enumerate(images):\n",
        "  img = img.unsqueeze(0)\n",
        "  integrated_grads.append(IG.generate_integrated_gradients(img, labels[i], 10))\n",
        "fig, axs = plt.subplots(2, len(img_indices), figsize=(15, 8))\n",
        "for i, img in enumerate(images):\n",
        "  axs[0][i].imshow(img.cpu().permute(1, 2, 0))\n",
        "for i, img in enumerate(integrated_grads):\n",
        "  axs[1][i].imshow(np.moveaxis(normalize(img),0,-1))\n",
        "plt.show()\n",
        "plt.close()"
      ]
    },
    {
      "cell_type": "markdown",
      "metadata": {
        "id": "WQRNMqrqqP7i"
      },
      "source": [
        "# **Homework 9 - Explainable AI (Part 2 BERT)**\n"
      ]
    },
    {
      "cell_type": "markdown",
      "metadata": {
        "id": "0P2ZgPclYs3u"
      },
      "source": [
        "# Question 21 - 24\n",
        "### You are recommended to visualize on this website directly: https://exbert.net/exBERT.html"
      ]
    },
    {
      "cell_type": "code",
      "execution_count": null,
      "metadata": {
        "colab": {
          "base_uri": "https://localhost:8080/",
          "height": 1000
        },
        "id": "dmo6q27Eo-49",
        "outputId": "0530ca71-baa9-4880-b710-165445b098b4",
        "vscode": {
          "languageId": "python"
        }
      },
      "outputs": [],
      "source": [
        "from IPython import display\n",
        "display.IFrame(\"https://exbert.net/exBERT.html\", width=1600, height=1600)"
      ]
    },
    {
      "cell_type": "markdown",
      "metadata": {
        "id": "xzxohy5PYmbx"
      },
      "source": [
        "# Import Packages (For Questions 25 - 30)"
      ]
    },
    {
      "cell_type": "code",
      "execution_count": null,
      "metadata": {
        "colab": {
          "base_uri": "https://localhost:8080/"
        },
        "id": "4zk9AhBRa5DJ",
        "outputId": "96d290e5-be8a-4fbc-8539-60032d897635",
        "vscode": {
          "languageId": "python"
        }
      },
      "outputs": [],
      "source": [
        "# Install transformers\n",
        "!pip install transformers==4.5.0\n",
        "\n",
        "# Import all packages needed\n",
        "import numpy as np\n",
        "import random\n",
        "import torch\n",
        "\n",
        "from sklearn.decomposition import PCA\n",
        "from sklearn.metrics import pairwise_distances\n",
        "from transformers import BertModel, BertTokenizerFast\n",
        "\n",
        "##### For Displaying Traditional Chinese in Colab when Drawing with Matplotlib #####\n",
        "# Colab 進行matplotlib繪圖時顯示繁體中文\n",
        "# 下載台北思源黑體並命名taipei_sans_tc_beta.ttf，移至指定路徑\n",
        "!gdown --id '1WOjwyN_wimGfrw0kE2nvp6OxFimch3H5' --output taipei_sans_tc_beta.ttf\n",
        "\n",
        "from matplotlib.font_manager import FontProperties\n",
        "import matplotlib.pyplot as plt \n",
        "\n",
        "# 自定義字體變數\n",
        "myfont = FontProperties(fname=r'taipei_sans_tc_beta.ttf')\n",
        "\n",
        "# !!!!後續在相關函式中增加fontproperties=myfont屬性即可!!!!\n",
        "##### Code from https://colab.research.google.com/github/willismax/matplotlib_show_chinese_in_colab/blob/master/matplotlib_show_chinese_in_colab.ipynb #####\n",
        "\n",
        "plt.rcParams['figure.figsize'] = [12, 10]\n",
        "\n",
        "# Fix random seed for reproducibility\n",
        "def same_seeds(seed):\n",
        "\ttorch.manual_seed(seed)\n",
        "\tif torch.cuda.is_available():\n",
        "\t\ttorch.cuda.manual_seed(seed)\n",
        "\t\ttorch.cuda.manual_seed_all(seed)\n",
        "\tnp.random.seed(seed)\n",
        "\trandom.seed(seed)\n",
        "\ttorch.backends.cudnn.benchmark = False\n",
        "\ttorch.backends.cudnn.deterministic = True\n",
        "\n",
        "same_seeds(0)"
      ]
    },
    {
      "cell_type": "markdown",
      "metadata": {
        "id": "7HTp9kBsxouS"
      },
      "source": [
        "# Question 25 - 27\n",
        "\n",
        "## Visualizing Bert's embedding\n",
        "\n",
        "\n",
        "#### Tom has 3 pretrained models, but he is not sure which of these models has been fine-tuned for Question Answering. \n",
        "\n",
        "His instinct told him solving QA requires 4 steps:　(steps are **NOT** in order since he has such a bad memory)\n",
        "\n",
        "1. Clustering similar words together (based on relation of words in context)\n",
        "\n",
        "2. Answer extraction\n",
        "\n",
        "3. Clustering similar words together (based on meaning of words)\n",
        "\n",
        "4. Matching question with relevant information in context\n",
        "\n",
        "\n",
        "#### Can you help him solve this problem just by looking into the embedding of hidden states?\n",
        "\n",
        "<br>\n",
        "\n",
        "#### 湯姆有 3 個預訓練模型，但他忘記每一個模型是否有微調在閱讀理解的任務上了。\n",
        "\n",
        "他的直覺告訴他解閱讀理解需要四個步驟﹕（因為他很健忘，所以這些步驟並**不**按照順序排列)\n",
        "\n",
        "1. 將類似的文字分羣 (根據文字在文章中的關係)\n",
        "\n",
        "2. 提取答案\n",
        "\n",
        "3. 將類似的文字分羣 (根據文字的意思)\n",
        "\n",
        "4. 從文章中尋找與問題有關的資訊\n",
        "\n",
        "#### 你可以在只看見模型 hidden states embedding 的情況下，幫湯姆解決這個問題嗎?\n",
        "\n"
      ]
    },
    {
      "cell_type": "markdown",
      "metadata": {
        "id": "2E6Np-zFstOj"
      },
      "source": [
        "## Download Tokenizers and Models' hidden states"
      ]
    },
    {
      "cell_type": "code",
      "execution_count": null,
      "metadata": {
        "colab": {
          "base_uri": "https://localhost:8080/"
        },
        "id": "dgEkI4N7jHxX",
        "outputId": "f43ff31d-1a19-4589-8337-c378f3189aac",
        "vscode": {
          "languageId": "python"
        }
      },
      "outputs": [],
      "source": [
        "!gdown --id '17AZ2KAUFpYHJOC0DHet3cQWYE5sX2yxo' --output hw9_bert.zip\n",
        "!unzip hw9_bert.zip"
      ]
    },
    {
      "cell_type": "markdown",
      "metadata": {
        "id": "syC4-t0Yuqp3"
      },
      "source": [
        "## Load Tokenizers"
      ]
    },
    {
      "cell_type": "code",
      "execution_count": null,
      "metadata": {
        "id": "joSq-69fkV3x",
        "vscode": {
          "languageId": "python"
        }
      },
      "outputs": [],
      "source": [
        "tokenizer1 = BertTokenizerFast.from_pretrained(\"hw9_bert/tokenizer1\")\n",
        "tokenizer2 = BertTokenizerFast.from_pretrained(\"hw9_bert/tokenizer2\")\n",
        "tokenizer3 = BertTokenizerFast.from_pretrained(\"hw9_bert/tokenizer3\")\n",
        "tokenizers = [tokenizer1, tokenizer2, tokenizer3]"
      ]
    },
    {
      "cell_type": "markdown",
      "metadata": {
        "id": "qBa0jYnNriQB"
      },
      "source": [
        "## What to Visualize?"
      ]
    },
    {
      "cell_type": "code",
      "execution_count": null,
      "metadata": {
        "id": "eOWh2Ur7nOsM",
        "vscode": {
          "languageId": "python"
        }
      },
      "outputs": [],
      "source": [
        "contexts, questions, answers = [], [], []\n",
        "\n",
        "# Question 1\n",
        "contexts += ['Currently detention is one of the most common punishments in schools in the United States, the UK, Ireland, Singapore and other countries. \\\n",
        "            It requires the pupil to remain in school at a given time in the school day (such as lunch, recess or after school); or even to attend \\\n",
        "            school on a non-school day, e.g. \"Saturday detention\" held at some schools. During detention, students normally have to sit in a classroom \\\n",
        "            and do work, write lines or a punishment essay, or sit quietly.']\n",
        "questions += ['What is a common punishment in the UK and Ireland?']\n",
        "answers += ['detention']\n",
        "\n",
        "# Question 2\n",
        "contexts += ['Wolves are afraid of cats. Sheep are afraid of wolves. Mice are afraid of sheep. Gertrude is a mouse. Jessica is a mouse. \\\n",
        "            Emily is a wolf. Cats are afraid of sheep. Winona is a wolf.']\n",
        "questions += ['What is Emily afraid of?']\n",
        "answers += ['cats']\n",
        "\n",
        "# Question 3\n",
        "contexts += [\"Nikola Tesla (Serbian Cyrillic: Никола Тесла; 10 July 1856 – 7 January 1943) was a Serbian American inventor, electrical engineer, \\\n",
        "            mechanical engineer, physicist, and futurist best known for his contributions to the design of the modern alternating current \\\n",
        "            (AC) electricity supply system.\"]\n",
        "questions += [\"In what year was Nikola Tesla born?\"]\n",
        "answers += [\"1856\"]"
      ]
    },
    {
      "cell_type": "markdown",
      "metadata": {
        "id": "keDPUw6onTUz"
      },
      "source": [
        "## TODO"
      ]
    },
    {
      "cell_type": "code",
      "execution_count": null,
      "metadata": {
        "id": "q1mF0ieFrfDD",
        "vscode": {
          "languageId": "python"
        }
      },
      "outputs": [],
      "source": [
        "# Choose from 1, 2, 3\n",
        "MODEL = 1\n",
        "\n",
        "# Choose from 1, 2, 3\n",
        "QUESTION = 1"
      ]
    },
    {
      "cell_type": "markdown",
      "metadata": {
        "id": "rJC_zL5a1A0v"
      },
      "source": [
        "## Visualization"
      ]
    },
    {
      "cell_type": "code",
      "execution_count": null,
      "metadata": {
        "colab": {
          "base_uri": "https://localhost:8080/",
          "height": 1000
        },
        "id": "Wc4LAmuQarE7",
        "outputId": "4808519d-56df-452f-b468-508a5bc3442a",
        "vscode": {
          "languageId": "python"
        }
      },
      "outputs": [],
      "source": [
        "# Tokenize and encode question and paragraph into model's input format\n",
        "inputs = tokenizers[MODEL-1](questions[QUESTION-1], contexts[QUESTION-1], return_tensors='pt') \n",
        "\n",
        "# Get the [start, end] positions of [question, context] in encoded sequence for plotting\n",
        "question_start, question_end = 1, inputs['input_ids'][0].tolist().index(102) - 1\n",
        "context_start, context_end = question_end + 2, len(inputs['input_ids'][0]) - 2\n",
        "\n",
        "outputs_hidden_states = torch.load(f\"hw9_bert/output/model{MODEL}_q{QUESTION}\")\n",
        "\n",
        "##### Traverse hidden state of all layers #####\n",
        "# \"outputs_hidden_state\" is a tuple with 13 elements, the 1st element is embedding output, the other 12 elements are attention hidden states of layer 1 - 12\n",
        "for layer_index, embeddings in enumerate(outputs_hidden_states[1:]): # 1st element is skipped\n",
        " \n",
        "    # \"embeddings\" has shape [1, sequence_length, 768], where 768 is the dimension of BERT's hidden state\n",
        "    # Dimension of \"embeddings\" is reduced from 768 to 2 using PCA (Principal Component Analysis)\n",
        "    reduced_embeddings = PCA(n_components=2, random_state=0).fit_transform(embeddings[0])\n",
        "\n",
        "    ##### Draw embedding of each token ##### \n",
        "    for i, token_id in enumerate(inputs['input_ids'][0]):\n",
        "        x, y = reduced_embeddings[i] # Embedding has 2 dimensions, each corresponds to a point\n",
        "        word = tokenizers[MODEL-1].decode(token_id) # Decode token back to word\n",
        "        # Scatter points of answer, question and context in different colors\n",
        "        if word in answers[QUESTION-1].split(): # Check if word in answer\n",
        "            plt.scatter(x, y, color='blue', marker='d') \n",
        "        elif question_start <= i <= question_end:\n",
        "            plt.scatter(x, y, color='red')\n",
        "        elif context_start <= i <= context_end:\n",
        "            plt.scatter(x, y, color='green')\n",
        "        else: # skip special tokens [CLS], [SEP]\n",
        "            continue\n",
        "        plt.text(x + 0.1, y + 0.2, word, fontsize=12) # Plot word next to its point\n",
        "    \n",
        "    # Plot \"empty\" points to show labels\n",
        "    plt.plot([], label='answer', color='blue', marker='d')  \n",
        "    plt.plot([], label='question', color='red', marker='o')\n",
        "    plt.plot([], label='context', color='green', marker='o')\n",
        "    plt.legend(loc='best') # Display the area describing the elements in the plot\n",
        "    plt.title('Layer ' + str(layer_index + 1)) # Add title to the plot\n",
        "    plt.show() # Show the plot"
      ]
    },
    {
      "cell_type": "markdown",
      "metadata": {
        "id": "8maEnWqfw_zx"
      },
      "source": [
        "# Question 28 - 30\n",
        "\n",
        "## Comparing Bert's embedding\n"
      ]
    },
    {
      "cell_type": "markdown",
      "metadata": {
        "id": "Fg1CVRgj-gSP"
      },
      "source": [
        "### Load Model"
      ]
    },
    {
      "cell_type": "code",
      "execution_count": null,
      "metadata": {
        "colab": {
          "base_uri": "https://localhost:8080/",
          "height": 262,
          "referenced_widgets": [
            "c809a5682bd247eeb32aae3ae52e682c",
            "67c5c5a215ae4566a42983eb1061027c",
            "1e2306fb2b63414bb8d47ab89f1e277d",
            "31061399affc4130a78d29fbbe3e7c6b",
            "7258c450511d4417a7a364827d890660",
            "3de3da0aa45043dcbfb06e818c846a20",
            "ac232db45047461185082013ed282e3a",
            "63d5e6a84f1e4c4c955f46865b080f7a",
            "d36fe61dd98746cebb347f74b2540b1d",
            "61508ec6547643fa9b2dad1ebdf29d6b",
            "2ae2bb1dd44546b49de7608f92aa5d73",
            "4e1129f105d84b499401930233d28b20",
            "b73d8c0d58f94275a1be67711aec5383",
            "a4b3df88ff144fdf8a23cca3a1c817bf",
            "f16115f1568748a0b98e66a073e44f4d",
            "d72b68c1113643b69141365c7e7ffd00",
            "4dc4a99111564de68afa54deae06e855",
            "040b2e99cf644097a7460bc184d5b61e",
            "ebeb5675b1104a20b8f6a5a38a1f7036",
            "f271283c245d4c45a62cf42ac94a8616",
            "9b74f242c84c467f960e8754c970300b",
            "45dba47564a64b539bcf42326f7f64c8",
            "d7cbecfe979b43f1afdf6dcee8c88dfc",
            "3b927d784ab8430097fe239bff149468",
            "ed8c3b00e9a843969e3373b62016fe8d",
            "e3e319639bc94b308b325374d93f4e04",
            "641f119b2d5e4e94bb9e59166b2ffdcc",
            "03a328cd69fc4baa8bcf8df7628bb5d3",
            "f526f38dbfa44bf88b34ad656850fc15",
            "8ef26297e2f944bfae73027ef5777bc0",
            "837cc16948bf45459299be0fd15c4666",
            "5a7ee11628e0425a964aaaeb0cd950e1",
            "ea636b0c17364f66aaaae956da967204",
            "9c1177ed81974c41bcadcc62c536d5f9",
            "f3ba9d5256ee4e9b8a87c858b585a32e",
            "19311499b2f6469b86ed983e604c8243",
            "a9156cfab9c6455bac68871b9a014d1d",
            "dec7a4478ffd4dac9665a4f60cc841f0",
            "5969e177ee764903b4217b2b8e6b3c05",
            "8605d0bbc73540cb976e2efabbdbb743"
          ]
        },
        "id": "Y1H-xMOn-dLv",
        "outputId": "6e15978d-776a-47ca-e2dd-49af29336c83",
        "vscode": {
          "languageId": "python"
        }
      },
      "outputs": [],
      "source": [
        "model = BertModel.from_pretrained('bert-base-chinese', output_hidden_states=True).eval()\n",
        "tokenizer = BertTokenizerFast.from_pretrained('bert-base-chinese')"
      ]
    },
    {
      "cell_type": "markdown",
      "metadata": {
        "id": "7MV_qNsmHqfD"
      },
      "source": [
        "### What to Visualize?"
      ]
    },
    {
      "cell_type": "code",
      "execution_count": null,
      "metadata": {
        "id": "-WHhO1J3Hx6R",
        "vscode": {
          "languageId": "python"
        }
      },
      "outputs": [],
      "source": [
        "# Sentences for visualization\n",
        "sentences = []\n",
        "sentences += [\"今天買了蘋果來吃\"]\n",
        "sentences += [\"進口蘋果（富士)平均每公斤下跌12.3%\"]\n",
        "sentences += [\"蘋果茶真難喝\"]\n",
        "sentences += [\"老饕都知道智利的蘋果季節即將到來\"]\n",
        "sentences += [\"進口蘋果因防止水分流失故添加人工果糖\"]\n",
        "sentences += [\"蘋果即將於下月發振新款iPhone\"]\n",
        "sentences += [\"蘋果獲新Face ID專利\"]\n",
        "sentences += [\"今天買了蘋果手機\"]\n",
        "sentences += [\"蘋果的股價又跌了\"]\n",
        "sentences += [\"蘋果押寶指紋辨識技術\"]\n",
        "\n",
        "# Index of word selected for embedding comparison. E.g. For sentence \"蘋果茶真難喝\", if index is 0, \"蘋 is selected\"\n",
        "select_word_index = [4, 2, 0, 8, 2, 0, 0, 4, 0, 0]"
      ]
    },
    {
      "cell_type": "markdown",
      "metadata": {
        "id": "UV3pJo85slwz"
      },
      "source": [
        "### TODO"
      ]
    },
    {
      "cell_type": "code",
      "execution_count": null,
      "metadata": {
        "id": "4tdX9HClgz8p",
        "vscode": {
          "languageId": "python"
        }
      },
      "outputs": [],
      "source": [
        "def euclidean_distance(a, b):\n",
        "    # Compute euclidean distance (L2 norm) between two numpy vectors a and b\n",
        "    return np.linalg.norm(a-b)\n",
        "\n",
        "def cosine_similarity(a, b):\n",
        "    # Compute cosine similarity between two numpy vectors a and b\n",
        "    return 0\n",
        "\n",
        "# Metric for comparison. Choose from euclidean_distance, cosine_similarity\n",
        "METRIC = euclidean_distance\n",
        "\n",
        "def get_select_embedding(output, tokenized_sentence, select_word_index):\n",
        "    # The layer to visualize, choose from 0 to 12\n",
        "    LAYER = 12\n",
        "    # Get selected layer's hidden state\n",
        "    hidden_state = output.hidden_states[LAYER][0]\n",
        "    # Convert select_word_index in sentence to select_token_index in tokenized sentence\n",
        "    select_token_index = tokenized_sentence.word_to_tokens(select_word_index).start\n",
        "    # Return embedding of selected word\n",
        "    return hidden_state[select_token_index].numpy()"
      ]
    },
    {
      "cell_type": "markdown",
      "metadata": {
        "id": "lZFAVj7p-71l"
      },
      "source": [
        "### Visualization"
      ]
    },
    {
      "cell_type": "code",
      "execution_count": null,
      "metadata": {
        "colab": {
          "base_uri": "https://localhost:8080/",
          "height": 600
        },
        "id": "VbM2xA-e-622",
        "outputId": "90b015e1-161e-4b72-e64e-26fc1be828ab",
        "vscode": {
          "languageId": "python"
        }
      },
      "outputs": [],
      "source": [
        "# Tokenize and encode sentences into model's input format\n",
        "tokenized_sentences = [tokenizer(sentence, return_tensors='pt') for sentence in sentences]\n",
        "\n",
        "# Input encoded sentences into model and get outputs \n",
        "with torch.no_grad():\n",
        "    outputs = [model(**tokenized_sentence) for tokenized_sentence in tokenized_sentences]\n",
        "\n",
        "# Get embedding of selected word(s) in sentences. \"embeddings\" has shape (len(sentences), 768), where 768 is the dimension of BERT's hidden state\n",
        "embeddings = [get_select_embedding(outputs[i], tokenized_sentences[i], select_word_index[i]) for i in range(len(outputs))]\n",
        "\n",
        "# Pairwse comparsion of sentences' embeddings using the metirc defined. \"similarity_matrix\" has shape [len(sentences), len(sentences)]\n",
        "similarity_matrix = pairwise_distances(embeddings, metric=METRIC) \n",
        "\n",
        "##### Plot the similarity matrix #####\n",
        "plt.rcParams['figure.figsize'] = [12, 10] # Change figure size of the plot\n",
        "plt.imshow(similarity_matrix) # Display an image in the plot\n",
        "plt.colorbar() # Add colorbar to the plot\n",
        "plt.yticks(ticks=range(len(sentences)), labels=sentences, fontproperties=myfont) # Set tick locations and labels (sentences) of y-axis\n",
        "plt.title('Comparison of BERT Word Embeddings') # Add title to the plot\n",
        "for (i,j), label in np.ndenumerate(similarity_matrix): # np.ndenumerate is 2D version of enumerate\n",
        "    plt.text(i, j, '{:.2f}'.format(label), ha='center', va='center') # Add values in similarity_matrix to the corresponding position in the plot\n",
        "plt.show() # Show the plot "
      ]
    }
  ],
  "metadata": {
    "accelerator": "GPU",
    "colab": {
      "collapsed_sections": [],
      "name": "hw9_xai.ipynb",
      "provenance": [],
      "toc_visible": true
    },
    "kernelspec": {
      "display_name": "Python 3",
      "name": "python3"
    },
    "widgets": {
      "application/vnd.jupyter.widget-state+json": {
        "03a328cd69fc4baa8bcf8df7628bb5d3": {
          "model_module": "@jupyter-widgets/controls",
          "model_name": "HTMLModel",
          "state": {
            "_dom_classes": [],
            "_model_module": "@jupyter-widgets/controls",
            "_model_module_version": "1.5.0",
            "_model_name": "HTMLModel",
            "_view_count": null,
            "_view_module": "@jupyter-widgets/controls",
            "_view_module_version": "1.5.0",
            "_view_name": "HTMLView",
            "description": "",
            "description_tooltip": null,
            "layout": "IPY_MODEL_5a7ee11628e0425a964aaaeb0cd950e1",
            "placeholder": "​",
            "style": "IPY_MODEL_837cc16948bf45459299be0fd15c4666",
            "value": " 269k/269k [00:01&lt;00:00, 259kB/s]"
          }
        },
        "040b2e99cf644097a7460bc184d5b61e": {
          "model_module": "@jupyter-widgets/base",
          "model_name": "LayoutModel",
          "state": {
            "_model_module": "@jupyter-widgets/base",
            "_model_module_version": "1.2.0",
            "_model_name": "LayoutModel",
            "_view_count": null,
            "_view_module": "@jupyter-widgets/base",
            "_view_module_version": "1.2.0",
            "_view_name": "LayoutView",
            "align_content": null,
            "align_items": null,
            "align_self": null,
            "border": null,
            "bottom": null,
            "display": null,
            "flex": null,
            "flex_flow": null,
            "grid_area": null,
            "grid_auto_columns": null,
            "grid_auto_flow": null,
            "grid_auto_rows": null,
            "grid_column": null,
            "grid_gap": null,
            "grid_row": null,
            "grid_template_areas": null,
            "grid_template_columns": null,
            "grid_template_rows": null,
            "height": null,
            "justify_content": null,
            "justify_items": null,
            "left": null,
            "margin": null,
            "max_height": null,
            "max_width": null,
            "min_height": null,
            "min_width": null,
            "object_fit": null,
            "object_position": null,
            "order": null,
            "overflow": null,
            "overflow_x": null,
            "overflow_y": null,
            "padding": null,
            "right": null,
            "top": null,
            "visibility": null,
            "width": null
          }
        },
        "19311499b2f6469b86ed983e604c8243": {
          "model_module": "@jupyter-widgets/controls",
          "model_name": "HTMLModel",
          "state": {
            "_dom_classes": [],
            "_model_module": "@jupyter-widgets/controls",
            "_model_module_version": "1.5.0",
            "_model_name": "HTMLModel",
            "_view_count": null,
            "_view_module": "@jupyter-widgets/controls",
            "_view_module_version": "1.5.0",
            "_view_name": "HTMLView",
            "description": "",
            "description_tooltip": null,
            "layout": "IPY_MODEL_8605d0bbc73540cb976e2efabbdbb743",
            "placeholder": "​",
            "style": "IPY_MODEL_5969e177ee764903b4217b2b8e6b3c05",
            "value": " 29.0/29.0 [07:54&lt;00:00, 16.4s/B]"
          }
        },
        "1e2306fb2b63414bb8d47ab89f1e277d": {
          "model_module": "@jupyter-widgets/controls",
          "model_name": "FloatProgressModel",
          "state": {
            "_dom_classes": [],
            "_model_module": "@jupyter-widgets/controls",
            "_model_module_version": "1.5.0",
            "_model_name": "FloatProgressModel",
            "_view_count": null,
            "_view_module": "@jupyter-widgets/controls",
            "_view_module_version": "1.5.0",
            "_view_name": "ProgressView",
            "bar_style": "success",
            "description": "Downloading: 100%",
            "description_tooltip": null,
            "layout": "IPY_MODEL_3de3da0aa45043dcbfb06e818c846a20",
            "max": 624,
            "min": 0,
            "orientation": "horizontal",
            "style": "IPY_MODEL_7258c450511d4417a7a364827d890660",
            "value": 624
          }
        },
        "2ae2bb1dd44546b49de7608f92aa5d73": {
          "model_module": "@jupyter-widgets/controls",
          "model_name": "FloatProgressModel",
          "state": {
            "_dom_classes": [],
            "_model_module": "@jupyter-widgets/controls",
            "_model_module_version": "1.5.0",
            "_model_name": "FloatProgressModel",
            "_view_count": null,
            "_view_module": "@jupyter-widgets/controls",
            "_view_module_version": "1.5.0",
            "_view_name": "ProgressView",
            "bar_style": "success",
            "description": "Downloading: 100%",
            "description_tooltip": null,
            "layout": "IPY_MODEL_a4b3df88ff144fdf8a23cca3a1c817bf",
            "max": 411577189,
            "min": 0,
            "orientation": "horizontal",
            "style": "IPY_MODEL_b73d8c0d58f94275a1be67711aec5383",
            "value": 411577189
          }
        },
        "31061399affc4130a78d29fbbe3e7c6b": {
          "model_module": "@jupyter-widgets/controls",
          "model_name": "HTMLModel",
          "state": {
            "_dom_classes": [],
            "_model_module": "@jupyter-widgets/controls",
            "_model_module_version": "1.5.0",
            "_model_name": "HTMLModel",
            "_view_count": null,
            "_view_module": "@jupyter-widgets/controls",
            "_view_module_version": "1.5.0",
            "_view_name": "HTMLView",
            "description": "",
            "description_tooltip": null,
            "layout": "IPY_MODEL_63d5e6a84f1e4c4c955f46865b080f7a",
            "placeholder": "​",
            "style": "IPY_MODEL_ac232db45047461185082013ed282e3a",
            "value": " 624/624 [08:07&lt;00:00, 1.28B/s]"
          }
        },
        "3b927d784ab8430097fe239bff149468": {
          "model_module": "@jupyter-widgets/base",
          "model_name": "LayoutModel",
          "state": {
            "_model_module": "@jupyter-widgets/base",
            "_model_module_version": "1.2.0",
            "_model_name": "LayoutModel",
            "_view_count": null,
            "_view_module": "@jupyter-widgets/base",
            "_view_module_version": "1.2.0",
            "_view_name": "LayoutView",
            "align_content": null,
            "align_items": null,
            "align_self": null,
            "border": null,
            "bottom": null,
            "display": null,
            "flex": null,
            "flex_flow": null,
            "grid_area": null,
            "grid_auto_columns": null,
            "grid_auto_flow": null,
            "grid_auto_rows": null,
            "grid_column": null,
            "grid_gap": null,
            "grid_row": null,
            "grid_template_areas": null,
            "grid_template_columns": null,
            "grid_template_rows": null,
            "height": null,
            "justify_content": null,
            "justify_items": null,
            "left": null,
            "margin": null,
            "max_height": null,
            "max_width": null,
            "min_height": null,
            "min_width": null,
            "object_fit": null,
            "object_position": null,
            "order": null,
            "overflow": null,
            "overflow_x": null,
            "overflow_y": null,
            "padding": null,
            "right": null,
            "top": null,
            "visibility": null,
            "width": null
          }
        },
        "3de3da0aa45043dcbfb06e818c846a20": {
          "model_module": "@jupyter-widgets/base",
          "model_name": "LayoutModel",
          "state": {
            "_model_module": "@jupyter-widgets/base",
            "_model_module_version": "1.2.0",
            "_model_name": "LayoutModel",
            "_view_count": null,
            "_view_module": "@jupyter-widgets/base",
            "_view_module_version": "1.2.0",
            "_view_name": "LayoutView",
            "align_content": null,
            "align_items": null,
            "align_self": null,
            "border": null,
            "bottom": null,
            "display": null,
            "flex": null,
            "flex_flow": null,
            "grid_area": null,
            "grid_auto_columns": null,
            "grid_auto_flow": null,
            "grid_auto_rows": null,
            "grid_column": null,
            "grid_gap": null,
            "grid_row": null,
            "grid_template_areas": null,
            "grid_template_columns": null,
            "grid_template_rows": null,
            "height": null,
            "justify_content": null,
            "justify_items": null,
            "left": null,
            "margin": null,
            "max_height": null,
            "max_width": null,
            "min_height": null,
            "min_width": null,
            "object_fit": null,
            "object_position": null,
            "order": null,
            "overflow": null,
            "overflow_x": null,
            "overflow_y": null,
            "padding": null,
            "right": null,
            "top": null,
            "visibility": null,
            "width": null
          }
        },
        "45dba47564a64b539bcf42326f7f64c8": {
          "model_module": "@jupyter-widgets/base",
          "model_name": "LayoutModel",
          "state": {
            "_model_module": "@jupyter-widgets/base",
            "_model_module_version": "1.2.0",
            "_model_name": "LayoutModel",
            "_view_count": null,
            "_view_module": "@jupyter-widgets/base",
            "_view_module_version": "1.2.0",
            "_view_name": "LayoutView",
            "align_content": null,
            "align_items": null,
            "align_self": null,
            "border": null,
            "bottom": null,
            "display": null,
            "flex": null,
            "flex_flow": null,
            "grid_area": null,
            "grid_auto_columns": null,
            "grid_auto_flow": null,
            "grid_auto_rows": null,
            "grid_column": null,
            "grid_gap": null,
            "grid_row": null,
            "grid_template_areas": null,
            "grid_template_columns": null,
            "grid_template_rows": null,
            "height": null,
            "justify_content": null,
            "justify_items": null,
            "left": null,
            "margin": null,
            "max_height": null,
            "max_width": null,
            "min_height": null,
            "min_width": null,
            "object_fit": null,
            "object_position": null,
            "order": null,
            "overflow": null,
            "overflow_x": null,
            "overflow_y": null,
            "padding": null,
            "right": null,
            "top": null,
            "visibility": null,
            "width": null
          }
        },
        "4dc4a99111564de68afa54deae06e855": {
          "model_module": "@jupyter-widgets/controls",
          "model_name": "HBoxModel",
          "state": {
            "_dom_classes": [],
            "_model_module": "@jupyter-widgets/controls",
            "_model_module_version": "1.5.0",
            "_model_name": "HBoxModel",
            "_view_count": null,
            "_view_module": "@jupyter-widgets/controls",
            "_view_module_version": "1.5.0",
            "_view_name": "HBoxView",
            "box_style": "",
            "children": [
              "IPY_MODEL_ebeb5675b1104a20b8f6a5a38a1f7036",
              "IPY_MODEL_f271283c245d4c45a62cf42ac94a8616"
            ],
            "layout": "IPY_MODEL_040b2e99cf644097a7460bc184d5b61e"
          }
        },
        "4e1129f105d84b499401930233d28b20": {
          "model_module": "@jupyter-widgets/controls",
          "model_name": "HTMLModel",
          "state": {
            "_dom_classes": [],
            "_model_module": "@jupyter-widgets/controls",
            "_model_module_version": "1.5.0",
            "_model_name": "HTMLModel",
            "_view_count": null,
            "_view_module": "@jupyter-widgets/controls",
            "_view_module_version": "1.5.0",
            "_view_name": "HTMLView",
            "description": "",
            "description_tooltip": null,
            "layout": "IPY_MODEL_d72b68c1113643b69141365c7e7ffd00",
            "placeholder": "​",
            "style": "IPY_MODEL_f16115f1568748a0b98e66a073e44f4d",
            "value": " 412M/412M [00:08&lt;00:00, 51.0MB/s]"
          }
        },
        "5969e177ee764903b4217b2b8e6b3c05": {
          "model_module": "@jupyter-widgets/controls",
          "model_name": "DescriptionStyleModel",
          "state": {
            "_model_module": "@jupyter-widgets/controls",
            "_model_module_version": "1.5.0",
            "_model_name": "DescriptionStyleModel",
            "_view_count": null,
            "_view_module": "@jupyter-widgets/base",
            "_view_module_version": "1.2.0",
            "_view_name": "StyleView",
            "description_width": ""
          }
        },
        "5a7ee11628e0425a964aaaeb0cd950e1": {
          "model_module": "@jupyter-widgets/base",
          "model_name": "LayoutModel",
          "state": {
            "_model_module": "@jupyter-widgets/base",
            "_model_module_version": "1.2.0",
            "_model_name": "LayoutModel",
            "_view_count": null,
            "_view_module": "@jupyter-widgets/base",
            "_view_module_version": "1.2.0",
            "_view_name": "LayoutView",
            "align_content": null,
            "align_items": null,
            "align_self": null,
            "border": null,
            "bottom": null,
            "display": null,
            "flex": null,
            "flex_flow": null,
            "grid_area": null,
            "grid_auto_columns": null,
            "grid_auto_flow": null,
            "grid_auto_rows": null,
            "grid_column": null,
            "grid_gap": null,
            "grid_row": null,
            "grid_template_areas": null,
            "grid_template_columns": null,
            "grid_template_rows": null,
            "height": null,
            "justify_content": null,
            "justify_items": null,
            "left": null,
            "margin": null,
            "max_height": null,
            "max_width": null,
            "min_height": null,
            "min_width": null,
            "object_fit": null,
            "object_position": null,
            "order": null,
            "overflow": null,
            "overflow_x": null,
            "overflow_y": null,
            "padding": null,
            "right": null,
            "top": null,
            "visibility": null,
            "width": null
          }
        },
        "61508ec6547643fa9b2dad1ebdf29d6b": {
          "model_module": "@jupyter-widgets/base",
          "model_name": "LayoutModel",
          "state": {
            "_model_module": "@jupyter-widgets/base",
            "_model_module_version": "1.2.0",
            "_model_name": "LayoutModel",
            "_view_count": null,
            "_view_module": "@jupyter-widgets/base",
            "_view_module_version": "1.2.0",
            "_view_name": "LayoutView",
            "align_content": null,
            "align_items": null,
            "align_self": null,
            "border": null,
            "bottom": null,
            "display": null,
            "flex": null,
            "flex_flow": null,
            "grid_area": null,
            "grid_auto_columns": null,
            "grid_auto_flow": null,
            "grid_auto_rows": null,
            "grid_column": null,
            "grid_gap": null,
            "grid_row": null,
            "grid_template_areas": null,
            "grid_template_columns": null,
            "grid_template_rows": null,
            "height": null,
            "justify_content": null,
            "justify_items": null,
            "left": null,
            "margin": null,
            "max_height": null,
            "max_width": null,
            "min_height": null,
            "min_width": null,
            "object_fit": null,
            "object_position": null,
            "order": null,
            "overflow": null,
            "overflow_x": null,
            "overflow_y": null,
            "padding": null,
            "right": null,
            "top": null,
            "visibility": null,
            "width": null
          }
        },
        "63d5e6a84f1e4c4c955f46865b080f7a": {
          "model_module": "@jupyter-widgets/base",
          "model_name": "LayoutModel",
          "state": {
            "_model_module": "@jupyter-widgets/base",
            "_model_module_version": "1.2.0",
            "_model_name": "LayoutModel",
            "_view_count": null,
            "_view_module": "@jupyter-widgets/base",
            "_view_module_version": "1.2.0",
            "_view_name": "LayoutView",
            "align_content": null,
            "align_items": null,
            "align_self": null,
            "border": null,
            "bottom": null,
            "display": null,
            "flex": null,
            "flex_flow": null,
            "grid_area": null,
            "grid_auto_columns": null,
            "grid_auto_flow": null,
            "grid_auto_rows": null,
            "grid_column": null,
            "grid_gap": null,
            "grid_row": null,
            "grid_template_areas": null,
            "grid_template_columns": null,
            "grid_template_rows": null,
            "height": null,
            "justify_content": null,
            "justify_items": null,
            "left": null,
            "margin": null,
            "max_height": null,
            "max_width": null,
            "min_height": null,
            "min_width": null,
            "object_fit": null,
            "object_position": null,
            "order": null,
            "overflow": null,
            "overflow_x": null,
            "overflow_y": null,
            "padding": null,
            "right": null,
            "top": null,
            "visibility": null,
            "width": null
          }
        },
        "641f119b2d5e4e94bb9e59166b2ffdcc": {
          "model_module": "@jupyter-widgets/controls",
          "model_name": "FloatProgressModel",
          "state": {
            "_dom_classes": [],
            "_model_module": "@jupyter-widgets/controls",
            "_model_module_version": "1.5.0",
            "_model_name": "FloatProgressModel",
            "_view_count": null,
            "_view_module": "@jupyter-widgets/controls",
            "_view_module_version": "1.5.0",
            "_view_name": "ProgressView",
            "bar_style": "success",
            "description": "Downloading: 100%",
            "description_tooltip": null,
            "layout": "IPY_MODEL_8ef26297e2f944bfae73027ef5777bc0",
            "max": 268943,
            "min": 0,
            "orientation": "horizontal",
            "style": "IPY_MODEL_f526f38dbfa44bf88b34ad656850fc15",
            "value": 268943
          }
        },
        "67c5c5a215ae4566a42983eb1061027c": {
          "model_module": "@jupyter-widgets/base",
          "model_name": "LayoutModel",
          "state": {
            "_model_module": "@jupyter-widgets/base",
            "_model_module_version": "1.2.0",
            "_model_name": "LayoutModel",
            "_view_count": null,
            "_view_module": "@jupyter-widgets/base",
            "_view_module_version": "1.2.0",
            "_view_name": "LayoutView",
            "align_content": null,
            "align_items": null,
            "align_self": null,
            "border": null,
            "bottom": null,
            "display": null,
            "flex": null,
            "flex_flow": null,
            "grid_area": null,
            "grid_auto_columns": null,
            "grid_auto_flow": null,
            "grid_auto_rows": null,
            "grid_column": null,
            "grid_gap": null,
            "grid_row": null,
            "grid_template_areas": null,
            "grid_template_columns": null,
            "grid_template_rows": null,
            "height": null,
            "justify_content": null,
            "justify_items": null,
            "left": null,
            "margin": null,
            "max_height": null,
            "max_width": null,
            "min_height": null,
            "min_width": null,
            "object_fit": null,
            "object_position": null,
            "order": null,
            "overflow": null,
            "overflow_x": null,
            "overflow_y": null,
            "padding": null,
            "right": null,
            "top": null,
            "visibility": null,
            "width": null
          }
        },
        "7258c450511d4417a7a364827d890660": {
          "model_module": "@jupyter-widgets/controls",
          "model_name": "ProgressStyleModel",
          "state": {
            "_model_module": "@jupyter-widgets/controls",
            "_model_module_version": "1.5.0",
            "_model_name": "ProgressStyleModel",
            "_view_count": null,
            "_view_module": "@jupyter-widgets/base",
            "_view_module_version": "1.2.0",
            "_view_name": "StyleView",
            "bar_color": null,
            "description_width": "initial"
          }
        },
        "837cc16948bf45459299be0fd15c4666": {
          "model_module": "@jupyter-widgets/controls",
          "model_name": "DescriptionStyleModel",
          "state": {
            "_model_module": "@jupyter-widgets/controls",
            "_model_module_version": "1.5.0",
            "_model_name": "DescriptionStyleModel",
            "_view_count": null,
            "_view_module": "@jupyter-widgets/base",
            "_view_module_version": "1.2.0",
            "_view_name": "StyleView",
            "description_width": ""
          }
        },
        "8605d0bbc73540cb976e2efabbdbb743": {
          "model_module": "@jupyter-widgets/base",
          "model_name": "LayoutModel",
          "state": {
            "_model_module": "@jupyter-widgets/base",
            "_model_module_version": "1.2.0",
            "_model_name": "LayoutModel",
            "_view_count": null,
            "_view_module": "@jupyter-widgets/base",
            "_view_module_version": "1.2.0",
            "_view_name": "LayoutView",
            "align_content": null,
            "align_items": null,
            "align_self": null,
            "border": null,
            "bottom": null,
            "display": null,
            "flex": null,
            "flex_flow": null,
            "grid_area": null,
            "grid_auto_columns": null,
            "grid_auto_flow": null,
            "grid_auto_rows": null,
            "grid_column": null,
            "grid_gap": null,
            "grid_row": null,
            "grid_template_areas": null,
            "grid_template_columns": null,
            "grid_template_rows": null,
            "height": null,
            "justify_content": null,
            "justify_items": null,
            "left": null,
            "margin": null,
            "max_height": null,
            "max_width": null,
            "min_height": null,
            "min_width": null,
            "object_fit": null,
            "object_position": null,
            "order": null,
            "overflow": null,
            "overflow_x": null,
            "overflow_y": null,
            "padding": null,
            "right": null,
            "top": null,
            "visibility": null,
            "width": null
          }
        },
        "8ef26297e2f944bfae73027ef5777bc0": {
          "model_module": "@jupyter-widgets/base",
          "model_name": "LayoutModel",
          "state": {
            "_model_module": "@jupyter-widgets/base",
            "_model_module_version": "1.2.0",
            "_model_name": "LayoutModel",
            "_view_count": null,
            "_view_module": "@jupyter-widgets/base",
            "_view_module_version": "1.2.0",
            "_view_name": "LayoutView",
            "align_content": null,
            "align_items": null,
            "align_self": null,
            "border": null,
            "bottom": null,
            "display": null,
            "flex": null,
            "flex_flow": null,
            "grid_area": null,
            "grid_auto_columns": null,
            "grid_auto_flow": null,
            "grid_auto_rows": null,
            "grid_column": null,
            "grid_gap": null,
            "grid_row": null,
            "grid_template_areas": null,
            "grid_template_columns": null,
            "grid_template_rows": null,
            "height": null,
            "justify_content": null,
            "justify_items": null,
            "left": null,
            "margin": null,
            "max_height": null,
            "max_width": null,
            "min_height": null,
            "min_width": null,
            "object_fit": null,
            "object_position": null,
            "order": null,
            "overflow": null,
            "overflow_x": null,
            "overflow_y": null,
            "padding": null,
            "right": null,
            "top": null,
            "visibility": null,
            "width": null
          }
        },
        "9b74f242c84c467f960e8754c970300b": {
          "model_module": "@jupyter-widgets/controls",
          "model_name": "ProgressStyleModel",
          "state": {
            "_model_module": "@jupyter-widgets/controls",
            "_model_module_version": "1.5.0",
            "_model_name": "ProgressStyleModel",
            "_view_count": null,
            "_view_module": "@jupyter-widgets/base",
            "_view_module_version": "1.2.0",
            "_view_name": "StyleView",
            "bar_color": null,
            "description_width": "initial"
          }
        },
        "9c1177ed81974c41bcadcc62c536d5f9": {
          "model_module": "@jupyter-widgets/base",
          "model_name": "LayoutModel",
          "state": {
            "_model_module": "@jupyter-widgets/base",
            "_model_module_version": "1.2.0",
            "_model_name": "LayoutModel",
            "_view_count": null,
            "_view_module": "@jupyter-widgets/base",
            "_view_module_version": "1.2.0",
            "_view_name": "LayoutView",
            "align_content": null,
            "align_items": null,
            "align_self": null,
            "border": null,
            "bottom": null,
            "display": null,
            "flex": null,
            "flex_flow": null,
            "grid_area": null,
            "grid_auto_columns": null,
            "grid_auto_flow": null,
            "grid_auto_rows": null,
            "grid_column": null,
            "grid_gap": null,
            "grid_row": null,
            "grid_template_areas": null,
            "grid_template_columns": null,
            "grid_template_rows": null,
            "height": null,
            "justify_content": null,
            "justify_items": null,
            "left": null,
            "margin": null,
            "max_height": null,
            "max_width": null,
            "min_height": null,
            "min_width": null,
            "object_fit": null,
            "object_position": null,
            "order": null,
            "overflow": null,
            "overflow_x": null,
            "overflow_y": null,
            "padding": null,
            "right": null,
            "top": null,
            "visibility": null,
            "width": null
          }
        },
        "a4b3df88ff144fdf8a23cca3a1c817bf": {
          "model_module": "@jupyter-widgets/base",
          "model_name": "LayoutModel",
          "state": {
            "_model_module": "@jupyter-widgets/base",
            "_model_module_version": "1.2.0",
            "_model_name": "LayoutModel",
            "_view_count": null,
            "_view_module": "@jupyter-widgets/base",
            "_view_module_version": "1.2.0",
            "_view_name": "LayoutView",
            "align_content": null,
            "align_items": null,
            "align_self": null,
            "border": null,
            "bottom": null,
            "display": null,
            "flex": null,
            "flex_flow": null,
            "grid_area": null,
            "grid_auto_columns": null,
            "grid_auto_flow": null,
            "grid_auto_rows": null,
            "grid_column": null,
            "grid_gap": null,
            "grid_row": null,
            "grid_template_areas": null,
            "grid_template_columns": null,
            "grid_template_rows": null,
            "height": null,
            "justify_content": null,
            "justify_items": null,
            "left": null,
            "margin": null,
            "max_height": null,
            "max_width": null,
            "min_height": null,
            "min_width": null,
            "object_fit": null,
            "object_position": null,
            "order": null,
            "overflow": null,
            "overflow_x": null,
            "overflow_y": null,
            "padding": null,
            "right": null,
            "top": null,
            "visibility": null,
            "width": null
          }
        },
        "a9156cfab9c6455bac68871b9a014d1d": {
          "model_module": "@jupyter-widgets/controls",
          "model_name": "ProgressStyleModel",
          "state": {
            "_model_module": "@jupyter-widgets/controls",
            "_model_module_version": "1.5.0",
            "_model_name": "ProgressStyleModel",
            "_view_count": null,
            "_view_module": "@jupyter-widgets/base",
            "_view_module_version": "1.2.0",
            "_view_name": "StyleView",
            "bar_color": null,
            "description_width": "initial"
          }
        },
        "ac232db45047461185082013ed282e3a": {
          "model_module": "@jupyter-widgets/controls",
          "model_name": "DescriptionStyleModel",
          "state": {
            "_model_module": "@jupyter-widgets/controls",
            "_model_module_version": "1.5.0",
            "_model_name": "DescriptionStyleModel",
            "_view_count": null,
            "_view_module": "@jupyter-widgets/base",
            "_view_module_version": "1.2.0",
            "_view_name": "StyleView",
            "description_width": ""
          }
        },
        "b73d8c0d58f94275a1be67711aec5383": {
          "model_module": "@jupyter-widgets/controls",
          "model_name": "ProgressStyleModel",
          "state": {
            "_model_module": "@jupyter-widgets/controls",
            "_model_module_version": "1.5.0",
            "_model_name": "ProgressStyleModel",
            "_view_count": null,
            "_view_module": "@jupyter-widgets/base",
            "_view_module_version": "1.2.0",
            "_view_name": "StyleView",
            "bar_color": null,
            "description_width": "initial"
          }
        },
        "c809a5682bd247eeb32aae3ae52e682c": {
          "model_module": "@jupyter-widgets/controls",
          "model_name": "HBoxModel",
          "state": {
            "_dom_classes": [],
            "_model_module": "@jupyter-widgets/controls",
            "_model_module_version": "1.5.0",
            "_model_name": "HBoxModel",
            "_view_count": null,
            "_view_module": "@jupyter-widgets/controls",
            "_view_module_version": "1.5.0",
            "_view_name": "HBoxView",
            "box_style": "",
            "children": [
              "IPY_MODEL_1e2306fb2b63414bb8d47ab89f1e277d",
              "IPY_MODEL_31061399affc4130a78d29fbbe3e7c6b"
            ],
            "layout": "IPY_MODEL_67c5c5a215ae4566a42983eb1061027c"
          }
        },
        "d36fe61dd98746cebb347f74b2540b1d": {
          "model_module": "@jupyter-widgets/controls",
          "model_name": "HBoxModel",
          "state": {
            "_dom_classes": [],
            "_model_module": "@jupyter-widgets/controls",
            "_model_module_version": "1.5.0",
            "_model_name": "HBoxModel",
            "_view_count": null,
            "_view_module": "@jupyter-widgets/controls",
            "_view_module_version": "1.5.0",
            "_view_name": "HBoxView",
            "box_style": "",
            "children": [
              "IPY_MODEL_2ae2bb1dd44546b49de7608f92aa5d73",
              "IPY_MODEL_4e1129f105d84b499401930233d28b20"
            ],
            "layout": "IPY_MODEL_61508ec6547643fa9b2dad1ebdf29d6b"
          }
        },
        "d72b68c1113643b69141365c7e7ffd00": {
          "model_module": "@jupyter-widgets/base",
          "model_name": "LayoutModel",
          "state": {
            "_model_module": "@jupyter-widgets/base",
            "_model_module_version": "1.2.0",
            "_model_name": "LayoutModel",
            "_view_count": null,
            "_view_module": "@jupyter-widgets/base",
            "_view_module_version": "1.2.0",
            "_view_name": "LayoutView",
            "align_content": null,
            "align_items": null,
            "align_self": null,
            "border": null,
            "bottom": null,
            "display": null,
            "flex": null,
            "flex_flow": null,
            "grid_area": null,
            "grid_auto_columns": null,
            "grid_auto_flow": null,
            "grid_auto_rows": null,
            "grid_column": null,
            "grid_gap": null,
            "grid_row": null,
            "grid_template_areas": null,
            "grid_template_columns": null,
            "grid_template_rows": null,
            "height": null,
            "justify_content": null,
            "justify_items": null,
            "left": null,
            "margin": null,
            "max_height": null,
            "max_width": null,
            "min_height": null,
            "min_width": null,
            "object_fit": null,
            "object_position": null,
            "order": null,
            "overflow": null,
            "overflow_x": null,
            "overflow_y": null,
            "padding": null,
            "right": null,
            "top": null,
            "visibility": null,
            "width": null
          }
        },
        "d7cbecfe979b43f1afdf6dcee8c88dfc": {
          "model_module": "@jupyter-widgets/controls",
          "model_name": "DescriptionStyleModel",
          "state": {
            "_model_module": "@jupyter-widgets/controls",
            "_model_module_version": "1.5.0",
            "_model_name": "DescriptionStyleModel",
            "_view_count": null,
            "_view_module": "@jupyter-widgets/base",
            "_view_module_version": "1.2.0",
            "_view_name": "StyleView",
            "description_width": ""
          }
        },
        "dec7a4478ffd4dac9665a4f60cc841f0": {
          "model_module": "@jupyter-widgets/base",
          "model_name": "LayoutModel",
          "state": {
            "_model_module": "@jupyter-widgets/base",
            "_model_module_version": "1.2.0",
            "_model_name": "LayoutModel",
            "_view_count": null,
            "_view_module": "@jupyter-widgets/base",
            "_view_module_version": "1.2.0",
            "_view_name": "LayoutView",
            "align_content": null,
            "align_items": null,
            "align_self": null,
            "border": null,
            "bottom": null,
            "display": null,
            "flex": null,
            "flex_flow": null,
            "grid_area": null,
            "grid_auto_columns": null,
            "grid_auto_flow": null,
            "grid_auto_rows": null,
            "grid_column": null,
            "grid_gap": null,
            "grid_row": null,
            "grid_template_areas": null,
            "grid_template_columns": null,
            "grid_template_rows": null,
            "height": null,
            "justify_content": null,
            "justify_items": null,
            "left": null,
            "margin": null,
            "max_height": null,
            "max_width": null,
            "min_height": null,
            "min_width": null,
            "object_fit": null,
            "object_position": null,
            "order": null,
            "overflow": null,
            "overflow_x": null,
            "overflow_y": null,
            "padding": null,
            "right": null,
            "top": null,
            "visibility": null,
            "width": null
          }
        },
        "e3e319639bc94b308b325374d93f4e04": {
          "model_module": "@jupyter-widgets/base",
          "model_name": "LayoutModel",
          "state": {
            "_model_module": "@jupyter-widgets/base",
            "_model_module_version": "1.2.0",
            "_model_name": "LayoutModel",
            "_view_count": null,
            "_view_module": "@jupyter-widgets/base",
            "_view_module_version": "1.2.0",
            "_view_name": "LayoutView",
            "align_content": null,
            "align_items": null,
            "align_self": null,
            "border": null,
            "bottom": null,
            "display": null,
            "flex": null,
            "flex_flow": null,
            "grid_area": null,
            "grid_auto_columns": null,
            "grid_auto_flow": null,
            "grid_auto_rows": null,
            "grid_column": null,
            "grid_gap": null,
            "grid_row": null,
            "grid_template_areas": null,
            "grid_template_columns": null,
            "grid_template_rows": null,
            "height": null,
            "justify_content": null,
            "justify_items": null,
            "left": null,
            "margin": null,
            "max_height": null,
            "max_width": null,
            "min_height": null,
            "min_width": null,
            "object_fit": null,
            "object_position": null,
            "order": null,
            "overflow": null,
            "overflow_x": null,
            "overflow_y": null,
            "padding": null,
            "right": null,
            "top": null,
            "visibility": null,
            "width": null
          }
        },
        "ea636b0c17364f66aaaae956da967204": {
          "model_module": "@jupyter-widgets/controls",
          "model_name": "HBoxModel",
          "state": {
            "_dom_classes": [],
            "_model_module": "@jupyter-widgets/controls",
            "_model_module_version": "1.5.0",
            "_model_name": "HBoxModel",
            "_view_count": null,
            "_view_module": "@jupyter-widgets/controls",
            "_view_module_version": "1.5.0",
            "_view_name": "HBoxView",
            "box_style": "",
            "children": [
              "IPY_MODEL_f3ba9d5256ee4e9b8a87c858b585a32e",
              "IPY_MODEL_19311499b2f6469b86ed983e604c8243"
            ],
            "layout": "IPY_MODEL_9c1177ed81974c41bcadcc62c536d5f9"
          }
        },
        "ebeb5675b1104a20b8f6a5a38a1f7036": {
          "model_module": "@jupyter-widgets/controls",
          "model_name": "FloatProgressModel",
          "state": {
            "_dom_classes": [],
            "_model_module": "@jupyter-widgets/controls",
            "_model_module_version": "1.5.0",
            "_model_name": "FloatProgressModel",
            "_view_count": null,
            "_view_module": "@jupyter-widgets/controls",
            "_view_module_version": "1.5.0",
            "_view_name": "ProgressView",
            "bar_style": "success",
            "description": "Downloading: 100%",
            "description_tooltip": null,
            "layout": "IPY_MODEL_45dba47564a64b539bcf42326f7f64c8",
            "max": 109540,
            "min": 0,
            "orientation": "horizontal",
            "style": "IPY_MODEL_9b74f242c84c467f960e8754c970300b",
            "value": 109540
          }
        },
        "ed8c3b00e9a843969e3373b62016fe8d": {
          "model_module": "@jupyter-widgets/controls",
          "model_name": "HBoxModel",
          "state": {
            "_dom_classes": [],
            "_model_module": "@jupyter-widgets/controls",
            "_model_module_version": "1.5.0",
            "_model_name": "HBoxModel",
            "_view_count": null,
            "_view_module": "@jupyter-widgets/controls",
            "_view_module_version": "1.5.0",
            "_view_name": "HBoxView",
            "box_style": "",
            "children": [
              "IPY_MODEL_641f119b2d5e4e94bb9e59166b2ffdcc",
              "IPY_MODEL_03a328cd69fc4baa8bcf8df7628bb5d3"
            ],
            "layout": "IPY_MODEL_e3e319639bc94b308b325374d93f4e04"
          }
        },
        "f16115f1568748a0b98e66a073e44f4d": {
          "model_module": "@jupyter-widgets/controls",
          "model_name": "DescriptionStyleModel",
          "state": {
            "_model_module": "@jupyter-widgets/controls",
            "_model_module_version": "1.5.0",
            "_model_name": "DescriptionStyleModel",
            "_view_count": null,
            "_view_module": "@jupyter-widgets/base",
            "_view_module_version": "1.2.0",
            "_view_name": "StyleView",
            "description_width": ""
          }
        },
        "f271283c245d4c45a62cf42ac94a8616": {
          "model_module": "@jupyter-widgets/controls",
          "model_name": "HTMLModel",
          "state": {
            "_dom_classes": [],
            "_model_module": "@jupyter-widgets/controls",
            "_model_module_version": "1.5.0",
            "_model_name": "HTMLModel",
            "_view_count": null,
            "_view_module": "@jupyter-widgets/controls",
            "_view_module_version": "1.5.0",
            "_view_name": "HTMLView",
            "description": "",
            "description_tooltip": null,
            "layout": "IPY_MODEL_3b927d784ab8430097fe239bff149468",
            "placeholder": "​",
            "style": "IPY_MODEL_d7cbecfe979b43f1afdf6dcee8c88dfc",
            "value": " 110k/110k [00:01&lt;00:00, 65.4kB/s]"
          }
        },
        "f3ba9d5256ee4e9b8a87c858b585a32e": {
          "model_module": "@jupyter-widgets/controls",
          "model_name": "FloatProgressModel",
          "state": {
            "_dom_classes": [],
            "_model_module": "@jupyter-widgets/controls",
            "_model_module_version": "1.5.0",
            "_model_name": "FloatProgressModel",
            "_view_count": null,
            "_view_module": "@jupyter-widgets/controls",
            "_view_module_version": "1.5.0",
            "_view_name": "ProgressView",
            "bar_style": "success",
            "description": "Downloading: 100%",
            "description_tooltip": null,
            "layout": "IPY_MODEL_dec7a4478ffd4dac9665a4f60cc841f0",
            "max": 29,
            "min": 0,
            "orientation": "horizontal",
            "style": "IPY_MODEL_a9156cfab9c6455bac68871b9a014d1d",
            "value": 29
          }
        },
        "f526f38dbfa44bf88b34ad656850fc15": {
          "model_module": "@jupyter-widgets/controls",
          "model_name": "ProgressStyleModel",
          "state": {
            "_model_module": "@jupyter-widgets/controls",
            "_model_module_version": "1.5.0",
            "_model_name": "ProgressStyleModel",
            "_view_count": null,
            "_view_module": "@jupyter-widgets/base",
            "_view_module_version": "1.2.0",
            "_view_name": "StyleView",
            "bar_color": null,
            "description_width": "initial"
          }
        }
      }
    }
  },
  "nbformat": 4,
  "nbformat_minor": 0
}
