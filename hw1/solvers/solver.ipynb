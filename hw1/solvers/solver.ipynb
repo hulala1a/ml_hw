{
 "cells": [
  {
   "cell_type": "markdown",
   "metadata": {},
   "source": [
    "# Homework 1:COVID-19 Cases Prediction(Regression)\n"
   ]
  },
  {
   "cell_type": "markdown",
   "metadata": {},
   "source": [
    "Objective:\n",
    "* Solve a **regression** problem with **deep neural networks** (DNN).\n",
    "* Understand basic DNN training tips.\n",
    "* Get familiar with **PyTorch**.\n",
    "\n",
    "Learn [more](../slides/hw01.pdf)."
   ]
  },
  {
   "cell_type": "markdown",
   "metadata": {},
   "source": [
    "## Data Exploration"
   ]
  },
  {
   "cell_type": "markdown",
   "metadata": {},
   "source": [
    "### Data Visualization\n",
    "There may be a linear relationship between the characteristics of different days."
   ]
  },
  {
   "cell_type": "code",
   "execution_count": 82,
   "metadata": {},
   "outputs": [],
   "source": [
    "import seaborn as sns\n",
    "import matplotlib.pyplot as plt\n",
    "import pandas as pd\n",
    "\n",
    "tr_path = '../datasets/covid.train.csv'\n",
    "tt_path = '../datasets/covid.test.csv'\n",
    "\n",
    "def read_file(path):\n",
    "    return pd.read_csv(path)\n",
    "\n",
    "tr_data = read_file(tr_path)\n",
    "tt_data = read_file(tt_path)\n",
    "\n",
    "def visual_data(data):\n",
    "    fig,axs = plt.subplots(18, 3, figsize = (20, 120))\n",
    "    sns.regplot(x=\"tested_positive\", y=\"tested_positive.1\", data=data, ax=axs[0][0])\n",
    "    sns.regplot(x=\"tested_positive\", y=\"tested_positive.2\",data=data, ax=axs[0][1])\n",
    "    sns.regplot(x=\"tested_positive.1\", y=\"tested_positive.2\", data=data, ax=axs[0][2])\n",
    "    sns.regplot(x=\"cli\", y=\"cli.1\", data=data, ax=axs[1][0])\n",
    "    sns.regplot(x=\"cli\", y=\"cli.2\", data=data, ax=axs[1][1])\n",
    "    sns.regplot(x=\"cli.1\", y=\"cli.2\", data=data, ax=axs[1][2])\n",
    "    sns.regplot(x=\"ili\", y=\"ili.1\", data=data, ax=axs[2][0])\n",
    "    sns.regplot(x=\"ili\", y=\"ili.2\", data=data, ax=axs[2][1])\n",
    "    sns.regplot(x=\"ili.1\", y=\"ili.2\", data=data, ax=axs[2][2])\n",
    "    sns.regplot(x=\"hh_cmnty_cli\", y=\"hh_cmnty_cli.1\", data=data, ax=axs[3][0])\n",
    "    sns.regplot(x=\"hh_cmnty_cli\", y=\"hh_cmnty_cli.2\", data=data, ax=axs[3][1])\n",
    "    sns.regplot(x=\"hh_cmnty_cli.1\", y=\"hh_cmnty_cli.2\", data=data, ax=axs[3][2])\n",
    "    sns.regplot(x=\"nohh_cmnty_cli\", y=\"nohh_cmnty_cli.1\", data=data, ax=axs[4][0])\n",
    "    sns.regplot(x=\"nohh_cmnty_cli\", y=\"nohh_cmnty_cli.2\", data=data, ax=axs[4][1])\n",
    "    sns.regplot(x=\"nohh_cmnty_cli.1\", y=\"nohh_cmnty_cli.2\", data=data, ax=axs[4][2])\n",
    "    sns.regplot(x=\"wearing_mask\", y=\"wearing_mask.1\", data=data, ax=axs[5][0])\n",
    "    sns.regplot(x=\"wearing_mask\", y=\"wearing_mask.2\", data=data, ax=axs[5][1])\n",
    "    sns.regplot(x=\"wearing_mask.1\", y=\"wearing_mask.2\", data=data, ax=axs[5][2])\n",
    "    sns.regplot(x=\"travel_outside_state\", y=\"travel_outside_state.1\", data=data, ax=axs[6][0])\n",
    "    sns.regplot(x=\"travel_outside_state\", y=\"travel_outside_state.2\", data=data, ax=axs[6][1])\n",
    "    sns.regplot(x=\"travel_outside_state.1\", y=\"travel_outside_state.2\", data=data, ax=axs[6][2])\n",
    "    sns.regplot(x=\"work_outside_home\", y=\"work_outside_home.1\", data=data, ax=axs[7][0])\n",
    "    sns.regplot(x=\"work_outside_home\", y=\"work_outside_home.2\", data=data, ax=axs[7][1])\n",
    "    sns.regplot(x=\"work_outside_home.1\", y=\"work_outside_home.2\", data=data, ax=axs[7][2])\n",
    "    sns.regplot(x=\"shop\", y=\"shop.1\", data=data, ax=axs[8][0])\n",
    "    sns.regplot(x=\"shop\", y=\"shop.2\", data=data, ax=axs[8][1])\n",
    "    sns.regplot(x=\"shop.1\", y=\"shop.2\", data=data, ax=axs[8][2])\n",
    "    sns.regplot(x=\"restaurant\", y=\"restaurant.1\", data=data, ax=axs[9][0])\n",
    "    sns.regplot(x=\"restaurant\", y=\"restaurant.2\",data=data, ax=axs[9][1])\n",
    "    sns.regplot(x=\"restaurant.1\", y=\"restaurant.2\", data=data, ax=axs[9][2])\n",
    "    sns.regplot(x=\"spent_time\", y=\"spent_time.1\", data=data, ax=axs[10][0])\n",
    "    sns.regplot(x=\"spent_time\", y=\"spent_time.2\", data=data, ax=axs[10][1])\n",
    "    sns.regplot(x=\"spent_time.1\", y=\"spent_time.2\", data=data, ax=axs[10][2])\n",
    "    sns.regplot(x=\"large_event\", y=\"large_event.1\", data=data, ax=axs[11][0])\n",
    "    sns.regplot(x=\"large_event\", y=\"large_event.2\", data=data, ax=axs[11][1])\n",
    "    sns.regplot(x=\"large_event.1\", y=\"large_event.2\", data=data, ax=axs[11][2])\n",
    "    sns.regplot(x=\"public_transit\", y=\"public_transit.1\", data=data, ax=axs[12][0])\n",
    "    sns.regplot(x=\"public_transit\", y=\"public_transit.2\", data=data, ax=axs[12][1])\n",
    "    sns.regplot(x=\"public_transit.1\", y=\"public_transit.2\", data=data, ax=axs[12][2])\n",
    "    sns.regplot(x=\"anxious\", y=\"anxious.1\", data=data, ax=axs[13][0])\n",
    "    sns.regplot(x=\"anxious\", y=\"anxious.2\", data=data, ax=axs[13][1])\n",
    "    sns.regplot(x=\"anxious.1\", y=\"anxious.2\", data=data, ax=axs[13][2])\n",
    "    sns.regplot(x=\"depressed\", y=\"depressed.1\", data=data, ax=axs[14][0])\n",
    "    sns.regplot(x=\"depressed\", y=\"depressed.2\", data=data, ax=axs[14][1])\n",
    "    sns.regplot(x=\"depressed.1\", y=\"depressed.2\", data=data, ax=axs[14][2])\n",
    "    sns.regplot(x=\"felt_isolated\", y=\"felt_isolated.1\", data=data, ax=axs[15][0])\n",
    "    sns.regplot(x=\"felt_isolated\", y=\"felt_isolated.2\", data=data, ax=axs[15][1])\n",
    "    sns.regplot(x=\"felt_isolated.1\", y=\"felt_isolated.2\", data=data, ax=axs[15][2])\n",
    "    sns.regplot(x=\"worried_become_ill\", y=\"worried_become_ill.1\", data=data, ax=axs[16][0])\n",
    "    sns.regplot(x=\"worried_become_ill\", y=\"worried_become_ill.2\", data=data, ax=axs[16][1])\n",
    "    sns.regplot(x=\"worried_become_ill.1\", y=\"worried_become_ill.2\", data=data, ax=axs[16][2])\n",
    "    sns.regplot(x=\"worried_finances\", y=\"worried_finances.1\", data=data, ax=axs[17][0])\n",
    "    sns.regplot(x=\"worried_finances\", y=\"worried_finances.2\", data=data, ax=axs[17][1])\n",
    "    sns.regplot(x=\"worried_finances.1\", y=\"worried_finances.2\", data=data, ax=axs[17][2])\n",
    "\n",
    "# visual_data(tr_path)"
   ]
  },
  {
   "cell_type": "markdown",
   "metadata": {},
   "source": [
    "## Data Preprocessing"
   ]
  },
  {
   "cell_type": "markdown",
   "metadata": {},
   "source": [
    "## Feature Engineering"
   ]
  },
  {
   "cell_type": "markdown",
   "metadata": {},
   "source": [
    "### Feature Selection"
   ]
  },
  {
   "cell_type": "markdown",
   "metadata": {},
   "source": [
    "Selecte features by sklearn"
   ]
  },
  {
   "cell_type": "code",
   "execution_count": 67,
   "metadata": {},
   "outputs": [
    {
     "name": "stdout",
     "output_type": "stream",
     "text": [
      "               feature          score\n",
      "76   tested_positive.1  148069.658278\n",
      "58     tested_positive   69603.872591\n",
      "43        hh_cmnty_cli    9235.492094\n",
      "61      hh_cmnty_cli.1    9209.019558\n",
      "79      hh_cmnty_cli.2    9097.375172\n",
      "44      nohh_cmnty_cli    8395.421300\n",
      "62    nohh_cmnty_cli.1    8343.255927\n",
      "80    nohh_cmnty_cli.2    8208.176435\n",
      "41                 cli    6388.906849\n",
      "59               cli.1    6374.548000\n",
      "77               cli.2    6250.008702\n",
      "42                 ili    5998.922880\n",
      "60               ili.1    5937.588576\n",
      "78               ili.2    5796.947672\n",
      "75  worried_finances.1     811.916460\n",
      "57    worried_finances     788.076931\n",
      "88    public_transit.2     686.736539\n",
      "70    public_transit.1     681.562902\n",
      "52      public_transit     678.834789\n",
      "84              shop.2     561.764051\n"
     ]
    }
   ],
   "source": [
    "from sklearn.feature_selection import SelectKBest\n",
    "from sklearn.feature_selection import f_regression\n",
    "\n",
    "x = tr_data.iloc[:, list(range(93))]\n",
    "x = (x - x.min()) / (x.max() - x.min())\n",
    "y = tr_data.iloc[:, -1]\n",
    "\n",
    "def test_f_regression():\n",
    "    fs = SelectKBest(score_func=f_regression, k='all')\n",
    "    fit = fs.fit(x,y)\n",
    "    df = pd.DataFrame([x.columns, fit.scores_], index=['feature', 'score'])\n",
    "    trans_df = pd.DataFrame(df.values.T, index=df.columns, columns=df.index)\n",
    "    trans_df['score'] = trans_df['score'].astype(float)\n",
    "    return trans_df\n",
    "\t\n",
    "print(test_f_regression().nlargest(20,'score')) \n"
   ]
  },
  {
   "cell_type": "markdown",
   "metadata": {},
   "source": [
    "Test in the following method:\n",
    "* select one feature in the features with linear relationship\n",
    "* select full features\n",
    "* only select tested_positives as features\n",
    "* select states and tested_positives as features\n",
    "* select features with a high score(preform best)"
   ]
  },
  {
   "cell_type": "code",
   "execution_count": 68,
   "metadata": {},
   "outputs": [],
   "source": [
    "''' select one feature in the features with linear relationship '''\n",
    "# features = list(range(42)) + list(range(46,48)) + [49] + list(range(51,55)) + list(range(57,60))  + list(range(64,66)) + [67] + list(range(69,73)) + list(range(75, 93))\n",
    "''' select full features '''\n",
    "# features = list(range(93))\n",
    "''' only select tested_positives as features '''\n",
    "# features = [57] + [75]\n",
    "''' select states and tested_positives as features '''\n",
    "# features = list(range(40)) + [57] + [75]\n",
    "''' select features with a high score '''\n",
    "features = list(range(40,44)) + list(range(57,62)) + list(range(75,80))"
   ]
  },
  {
   "cell_type": "markdown",
   "metadata": {},
   "source": [
    "## Model Selection"
   ]
  },
  {
   "cell_type": "markdown",
   "metadata": {},
   "source": [
    "### Define the Dataset"
   ]
  },
  {
   "cell_type": "code",
   "execution_count": 69,
   "metadata": {},
   "outputs": [],
   "source": [
    "import pandas as pd\n",
    "import torch\n",
    "from torch.utils.data import Dataset\n",
    "\n",
    "class COVID19Dataset(Dataset):\n",
    "    def __init__(self, mode='train'):\n",
    "        self.mode = mode\n",
    "\n",
    "        if mode == 'test':\n",
    "            data = tt_data.iloc[:, features]\n",
    "            self.data = torch.FloatTensor(data.values)\n",
    "        else:\n",
    "            target = tr_data.iloc[:, -1]\n",
    "            data = tr_data.iloc[:, features]\n",
    "\n",
    "            if mode == 'train':\n",
    "                indices = [i for i in range(len(data)) if i % 10 != 0]\n",
    "            elif mode == 'dev':\n",
    "                indices = [i for i in range(len(data)) if i % 10 == 0]\n",
    "\n",
    "            self.data = torch.FloatTensor(data.iloc[indices].values)\n",
    "            self.target = torch.FloatTensor(target.iloc[indices].values)\n",
    "\n",
    "        # Normalize features\n",
    "        self.data[:, 40:] = \\\n",
    "            (self.data[:, 40:] - self.data[:, 40:].mean(dim=0, keepdim=True)) \\\n",
    "            / self.data[:, 40:].std(dim=0, keepdim=True)\n",
    "\n",
    "        self.dim = self.data.shape[1]\n",
    "\n",
    "        print('Finished reading the {} set of COVID19 Dataset ({} samples found, each dim = {})'\n",
    "              .format(mode, len(self.data), self.dim))\n",
    "\n",
    "    def __getitem__(self, index):\n",
    "        if self.mode in ['train', 'dev']:\n",
    "            return self.data[index], self.target[index]\n",
    "        else:\n",
    "            return self.data[index]\n",
    "\n",
    "    def __len__(self):\n",
    "        return len(self.data)"
   ]
  },
  {
   "cell_type": "code",
   "execution_count": 70,
   "metadata": {},
   "outputs": [],
   "source": [
    "from torch.utils.data import DataLoader\n",
    "\n",
    "def trans_dataloader(mode, batch_size):\n",
    "    return DataLoader(COVID19Dataset(mode), batch_size, shuffle=(mode=='train'))"
   ]
  },
  {
   "cell_type": "markdown",
   "metadata": {},
   "source": [
    "### Define the Model"
   ]
  },
  {
   "cell_type": "code",
   "execution_count": 71,
   "metadata": {},
   "outputs": [],
   "source": [
    "import torch.nn as nn\n",
    "\n",
    "class NeuralNet(nn.Module):\n",
    "    def __init__(self, input_dim):\n",
    "        super(NeuralNet, self).__init__()\n",
    "        self.net = nn.Sequential(\n",
    "            nn.Linear(input_dim, 32),\n",
    "            nn.ReLU(),\n",
    "            nn.Linear(32, 1),\n",
    "        )\n",
    "        self.criterion = nn.MSELoss(reduction='mean')\n",
    "\n",
    "    def forward(self, x):\n",
    "        return self.net(x).squeeze(1)\n",
    "\n",
    "    def cal_loss(self, pred, target):\n",
    "        return torch.sqrt(self.criterion(pred, target))"
   ]
  },
  {
   "cell_type": "code",
   "execution_count": 72,
   "metadata": {},
   "outputs": [],
   "source": [
    "def create_optim(optim_fun, model_params, args):\n",
    "    return getattr(torch.optim, optim_fun)(model_params, **args)"
   ]
  },
  {
   "cell_type": "markdown",
   "metadata": {},
   "source": [
    "### Train, Develop and Test"
   ]
  },
  {
   "cell_type": "code",
   "execution_count": 73,
   "metadata": {},
   "outputs": [],
   "source": [
    "def train(tr_set, dv_set, model, config, device):\n",
    "    n_epochs = config['n_epochs']\n",
    "    optimizer = create_optim(config['optim'], model.parameters(), config['optim_args'])\n",
    "\n",
    "    min_mse = 1000.\n",
    "    mse_model = None\n",
    "    loss_record = {'train': [], 'dev': []}\n",
    "    early_stop_cnt = 0\n",
    "    epoch = 0\n",
    "    while epoch < n_epochs:\n",
    "        model.train()\n",
    "        for x, y in tr_set:\n",
    "            optimizer.zero_grad()\n",
    "            x, y = x.to(device), y.to(device)\n",
    "            pred = model(x)\n",
    "            rmse_loss = model.cal_loss(pred, y)\n",
    "            rmse_loss.backward()\n",
    "            optimizer.step()\n",
    "            loss_record['train'].append(rmse_loss.detach().cpu().item())\n",
    "\n",
    "        dev_mse = dev(dv_set, model, device)\n",
    "        if dev_mse < min_mse:\n",
    "            min_mse = dev_mse\n",
    "            print('epoch = {:4d}, loss = {:.4f}'\n",
    "                .format(epoch + 1, min_mse))\n",
    "            mse_model = model\n",
    "            early_stop_cnt = 0\n",
    "        else:\n",
    "            early_stop_cnt += 1\n",
    "\n",
    "        epoch += 1\n",
    "        loss_record['dev'].append(dev_mse)\n",
    "        if early_stop_cnt > config['early_stop']:\n",
    "            break\n",
    "\n",
    "    print('Finished training after {} epochs'.format(epoch))\n",
    "    return min_mse, loss_record, mse_model"
   ]
  },
  {
   "cell_type": "code",
   "execution_count": 74,
   "metadata": {},
   "outputs": [],
   "source": [
    "def dev(dv_set, model, device):\n",
    "    model.eval()\n",
    "    total_loss = 0\n",
    "    for x, y in dv_set:\n",
    "        x, y = x.to(device), y.to(device)\n",
    "        with torch.no_grad():\n",
    "            pred = model(x)\n",
    "            rmse_loss = model.cal_loss(pred, y)\n",
    "        total_loss += rmse_loss.detach().cpu().item() * len(x)\n",
    "    total_loss = total_loss / len(dv_set.dataset)\n",
    "    return total_loss"
   ]
  },
  {
   "cell_type": "code",
   "execution_count": 75,
   "metadata": {},
   "outputs": [],
   "source": [
    "def test(tt_set, model, device):\n",
    "    model.eval()\n",
    "    preds = []\n",
    "    for x in tt_set:\n",
    "        x = x.to(device)\n",
    "        with torch.no_grad():\n",
    "            pred = model(x)\n",
    "            preds += list(pred.detach().cpu())\n",
    "    # index = [list(range(len(preds)))]\n",
    "    pred_df = pd.DataFrame(preds, columns=['tested_positive']).astype(\"float\").reset_index()\n",
    "    pred_df.rename(columns={'index':'id'}, inplace = True)\n",
    "    return pred_df"
   ]
  },
  {
   "cell_type": "markdown",
   "metadata": {},
   "source": [
    "### Loss Visualization"
   ]
  },
  {
   "cell_type": "code",
   "execution_count": 76,
   "metadata": {},
   "outputs": [],
   "source": [
    "import matplotlib.pyplot as plt\n",
    "\n",
    "def plot_learning_curve(loss_record, title=''):\n",
    "    ''' Plot learning curve of your DNN (train & dev loss) '''\n",
    "    total_steps = len(loss_record['train'])\n",
    "    x_1 = range(total_steps)\n",
    "    x_2 = x_1[::len(loss_record['train']) // len(loss_record['dev'])]\n",
    "    plt.figure(figsize=(6, 4))\n",
    "    plt.plot(x_1, loss_record['train'], c='tab:red', label='train')\n",
    "    plt.plot(x_2, loss_record['dev'], c='tab:cyan', label='dev')\n",
    "    plt.ylim(0.0, 5.)\n",
    "    plt.xlabel('Training steps')\n",
    "    plt.ylabel('MSE loss')\n",
    "    plt.title('Learning curve of {}'.format(title))\n",
    "    plt.legend()\n",
    "    plt.show()\n",
    "\n",
    "\n",
    "def plot_pred(dv_set, model, device, lim=35., preds=None, targets=None):\n",
    "    ''' Plot prediction of your DNN '''\n",
    "    if preds is None or targets is None:\n",
    "        model.eval()\n",
    "        preds, targets = [], []\n",
    "        for x, y in dv_set:\n",
    "            x, y = x.to(device), y.to(device)\n",
    "            with torch.no_grad():\n",
    "                pred = model(x)\n",
    "                preds.append(pred.detach().cpu())\n",
    "                targets.append(y.detach().cpu())\n",
    "        preds = torch.cat(preds, dim=0).numpy()\n",
    "        targets = torch.cat(targets, dim=0).numpy()\n",
    "\n",
    "    plt.figure(figsize=(5, 5))\n",
    "    plt.scatter(targets, preds, c='r', alpha=0.5)\n",
    "    plt.plot([-0.2, lim], [-0.2, lim], c='b')\n",
    "    plt.xlim(-0.2, lim)\n",
    "    plt.ylim(-0.2, lim)\n",
    "    plt.xlabel('ground truth value')\n",
    "    plt.ylabel('predicted value')\n",
    "    plt.title('Ground Truth v.s. Prediction')\n",
    "    plt.show()"
   ]
  },
  {
   "cell_type": "markdown",
   "metadata": {},
   "source": [
    "### Train"
   ]
  },
  {
   "cell_type": "code",
   "execution_count": 78,
   "metadata": {},
   "outputs": [
    {
     "name": "stdout",
     "output_type": "stream",
     "text": [
      "Finished reading the test set of COVID19 Dataset (893 samples found, each dim = 14)\n",
      "Finished reading the train set of COVID19 Dataset (2430 samples found, each dim = 14)\n",
      "Finished reading the dev set of COVID19 Dataset (270 samples found, each dim = 14)\n",
      "epoch =    1, loss = 4.0383\n",
      "epoch =    2, loss = 1.7334\n",
      "epoch =    3, loss = 1.1344\n",
      "epoch =    4, loss = 1.0990\n",
      "epoch =    5, loss = 1.0821\n",
      "epoch =    7, loss = 1.0808\n",
      "epoch =    8, loss = 1.0549\n",
      "epoch =   13, loss = 1.0174\n",
      "epoch =   15, loss = 1.0101\n",
      "epoch =   18, loss = 0.9931\n",
      "epoch =   20, loss = 0.9892\n",
      "epoch =   22, loss = 0.9729\n",
      "epoch =   24, loss = 0.9656\n",
      "epoch =   26, loss = 0.9652\n",
      "epoch =   27, loss = 0.9647\n",
      "epoch =   29, loss = 0.9514\n",
      "epoch =   31, loss = 0.9427\n",
      "epoch =   34, loss = 0.9331\n",
      "epoch =   37, loss = 0.9198\n",
      "epoch =   39, loss = 0.9161\n",
      "epoch =   45, loss = 0.9062\n",
      "epoch =   48, loss = 0.9034\n",
      "epoch =   52, loss = 0.8970\n",
      "epoch =   56, loss = 0.8948\n",
      "epoch =   61, loss = 0.8854\n",
      "epoch =   75, loss = 0.8785\n",
      "epoch =   82, loss = 0.8761\n",
      "epoch =   89, loss = 0.8707\n",
      "epoch =   98, loss = 0.8693\n",
      "epoch =  105, loss = 0.8693\n",
      "epoch =  119, loss = 0.8677\n",
      "epoch =  146, loss = 0.8676\n",
      "epoch =  153, loss = 0.8659\n",
      "epoch =  162, loss = 0.8622\n",
      "epoch =  327, loss = 0.8618\n",
      "epoch =  330, loss = 0.8608\n",
      "Finished training after 531 epochs\n",
      "Best model has been saved, min_loss = 0.8608.\n"
     ]
    },
    {
     "data": {
      "image/png": "[encoded data removed]",
      "text/plain": [
       "<Figure size 432x288 with 1 Axes>"
      ]
     },
     "metadata": {
      "needs_background": "light"
     },
     "output_type": "display_data"
    },
    {
     "data": {
      "image/png": "[encoded data removed]",
      "text/plain": [
       "<Figure size 360x360 with 1 Axes>"
      ]
     },
     "metadata": {
      "needs_background": "light"
     },
     "output_type": "display_data"
    }
   ],
   "source": [
    "import os\n",
    "import numpy as np\n",
    "\n",
    "def get_device():\n",
    "    ''' Get device (if GPU is available, use GPU) '''\n",
    "    return 'cuda' if torch.cuda.is_available() else 'cpu'\n",
    "\n",
    "device = get_device()\n",
    "os.makedirs('../models', exist_ok=True)\n",
    "\n",
    "myseed = 42069\n",
    "np.random.seed(myseed)\n",
    "torch.manual_seed(myseed)\n",
    "if torch.cuda.is_available():\n",
    "    torch.cuda.manual_seed_all(myseed)\n",
    "\n",
    "\n",
    "config = {\n",
    "    'n_epochs': 3000,                  # maximum number of epochs\n",
    "    'batch_size': 32,                 # mini-batch size for dataloader\n",
    "    'optim': 'Adam',                    # optimization algorithm (optimizer in torch.optim)\n",
    "    'optim_args': {                    # hyper-parameters for the optimizer (depends on which optimizer you are using)\n",
    "        'lr': 0.001,\n",
    "        # 'momentum': 0.9,\n",
    "        'weight_decay': 1e-5\n",
    "    },\n",
    "    'early_stop': 200,                  # early stopping epochs (the number epochs since your model's last improvement)\n",
    "    'save_path': '../models/model.pth'  # your model will be saved here\n",
    "}\n",
    "\n",
    "tt_set = trans_dataloader('test', config['batch_size'])\n",
    "\n",
    "tr_set = trans_dataloader('train', config['batch_size'])\n",
    "dv_set = trans_dataloader('dev', config['batch_size'])\n",
    "\n",
    "model = NeuralNet(tr_set.dataset.dim).to(device)\n",
    "\n",
    "model_loss, model_loss_record, mse_model = train(tr_set, dv_set, model, config, device)\n",
    "\n",
    "        \n",
    "torch.save(mse_model.state_dict(), config['save_path'])\n",
    "print('Best model has been saved, min_loss = {:.4f}.'.format(model_loss))\n",
    "\n",
    "plot_learning_curve(model_loss_record, title='deep model')\n",
    "plot_pred(dv_set, model, device)  # Show prediction on the validation set"
   ]
  },
  {
   "cell_type": "markdown",
   "metadata": {},
   "source": [
    "### Prediction"
   ]
  },
  {
   "cell_type": "code",
   "execution_count": null,
   "metadata": {},
   "outputs": [],
   "source": [
    "def save_pred(preds, w_path):\n",
    "    ''' Save predictions to specified file '''\n",
    "    preds.to_csv(w_path, index=False)\n",
    "\n",
    "preds = test(tt_set, model, device)              # predict COVID-19 cases with your model\n",
    "save_pred(preds, '../datasets/pred.csv')         # save prediction file to pred.csv"
   ]
  },
  {
   "cell_type": "markdown",
   "metadata": {},
   "source": [
    "## Ensemble Generation"
   ]
  },
  {
   "cell_type": "markdown",
   "metadata": {},
   "source": [
    "## Scores"
   ]
  },
  {
   "cell_type": "markdown",
   "metadata": {},
   "source": [
    "Public score: 0.90009\n",
    "\n",
    "Private score: 0.89449"
   ]
  }
 ],
 "metadata": {
  "interpreter": {
   "hash": "d8ec1a701e318b2d82f1ca247f0a5676de29410c1f5fbc02c4f1dd4ce79f05a7"
  },
  "kernelspec": {
   "display_name": "Python 3.9.12 ('myenv')",
   "language": "python",
   "name": "python3"
  },
  "language_info": {
   "codemirror_mode": {
    "name": "ipython",
    "version": 3
   },
   "file_extension": ".py",
   "mimetype": "text/x-python",
   "name": "python",
   "nbconvert_exporter": "python",
   "pygments_lexer": "ipython3",
   "version": "3.9.12"
  },
  "orig_nbformat": 4
 },
 "nbformat": 4,
 "nbformat_minor": 2
}
